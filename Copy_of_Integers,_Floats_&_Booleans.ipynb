{
  "nbformat": 4,
  "nbformat_minor": 0,
  "metadata": {
    "kernelspec": {
      "display_name": "Python 3",
      "language": "python",
      "name": "python3"
    },
    "language_info": {
      "codemirror_mode": {
        "name": "ipython",
        "version": 3
      },
      "file_extension": ".py",
      "mimetype": "text/x-python",
      "name": "python",
      "nbconvert_exporter": "python",
      "pygments_lexer": "ipython3",
      "version": "3.7.4"
    },
    "colab": {
      "provenance": [],
      "collapsed_sections": [],
      "include_colab_link": true
    }
  },
  "cells": [
    {
      "cell_type": "markdown",
      "metadata": {
        "id": "view-in-github",
        "colab_type": "text"
      },
      "source": [
        "<a href=\"https://colab.research.google.com/github/rkgupta1/MY-Practice-Set-for-python/blob/main/Copy_of_Integers%2C_Floats_%26_Booleans.ipynb\" target=\"_parent\"><img src=\"https://colab.research.google.com/assets/colab-badge.svg\" alt=\"Open In Colab\"/></a>"
      ]
    },
    {
      "cell_type": "code",
      "metadata": {
        "id": "etEpKlXqJbO2",
        "colab": {
          "base_uri": "https://localhost:8080/",
          "height": 34
        },
        "outputId": "5a4e32fd-cfed-46a5-f893-36fd459578da"
      },
      "source": [
        "# Division\n",
        "3/2"
      ],
      "execution_count": null,
      "outputs": [
        {
          "output_type": "execute_result",
          "data": {
            "text/plain": [
              "1.5"
            ]
          },
          "metadata": {
            "tags": []
          },
          "execution_count": 6
        }
      ]
    },
    {
      "cell_type": "code",
      "metadata": {
        "id": "_6rPJxI6JbO5",
        "colab": {
          "base_uri": "https://localhost:8080/",
          "height": 34
        },
        "outputId": "e146051d-58d1-40be-cde5-eae19cf9ebba"
      },
      "source": [
        "# Floor Division\n",
        "7//2"
      ],
      "execution_count": null,
      "outputs": [
        {
          "output_type": "execute_result",
          "data": {
            "text/plain": [
              "3"
            ]
          },
          "metadata": {
            "tags": []
          },
          "execution_count": 9
        }
      ]
    },
    {
      "cell_type": "code",
      "metadata": {
        "id": "-nwZ9QhfJbO8",
        "colab": {
          "base_uri": "https://localhost:8080/",
          "height": 34
        },
        "outputId": "d5333f83-f108-4845-ba40-50bfe06747f1"
      },
      "source": [
        "# Exponentiation\n",
        "2**5"
      ],
      "execution_count": null,
      "outputs": [
        {
          "output_type": "execute_result",
          "data": {
            "text/plain": [
              "32"
            ]
          },
          "metadata": {
            "tags": []
          },
          "execution_count": 11
        }
      ]
    },
    {
      "cell_type": "code",
      "metadata": {
        "id": "JuBKbD6rJbO-",
        "colab": {
          "base_uri": "https://localhost:8080/",
          "height": 34
        },
        "outputId": "3012d49a-ae22-4f65-b85f-9cd1fa7f6c84"
      },
      "source": [
        "# Modulus= remainder\n",
        "5%6"
      ],
      "execution_count": null,
      "outputs": [
        {
          "output_type": "execute_result",
          "data": {
            "text/plain": [
              "5"
            ]
          },
          "metadata": {
            "tags": []
          },
          "execution_count": 14
        }
      ]
    },
    {
      "cell_type": "code",
      "source": [
        "#1 Write a python program to check a given number is perfect or not.\n",
        "\n",
        "num= int(input())\n",
        "sum=0\n",
        "for i in range(1,num):\n",
        "    if num%i==0:\n",
        "\n",
        "      sum=sum+i\n",
        "if(sum==num):\n",
        "     print('the number is a perfect number')\n",
        "else:\n",
        "     print('the number is not a pefect number')\n",
        "       \n",
        "        "
      ],
      "metadata": {
        "id": "DtNoBBqe5Dm9",
        "colab": {
          "base_uri": "https://localhost:8080/"
        },
        "outputId": "490419c9-5e17-48c9-b511-9aee770e55b2"
      },
      "execution_count": 33,
      "outputs": [
        {
          "output_type": "stream",
          "name": "stdout",
          "text": [
            "6\n",
            "the number is a perfect number\n"
          ]
        }
      ]
    },
    {
      "cell_type": "code",
      "source": [
        "#2 Write a Python program to check whether a String is Palindrome or not?\n",
        "def Palindrome(s):\n",
        "  return s==s[::-1]\n",
        "  "
      ],
      "metadata": {
        "id": "5zEg6QbRqiBh"
      },
      "execution_count": 40,
      "outputs": []
    },
    {
      "cell_type": "code",
      "source": [
        "s=\"malayalam\"\n",
        "ans= Palindrome(s)\n",
        "if ans:\n",
        "  print('yes')\n",
        "else:\n",
        "  print('no')  "
      ],
      "metadata": {
        "colab": {
          "base_uri": "https://localhost:8080/"
        },
        "id": "LkU8ytfasB6J",
        "outputId": "0dc4868a-e286-470b-98a4-e603597db1f5"
      },
      "execution_count": 43,
      "outputs": [
        {
          "output_type": "stream",
          "name": "stdout",
          "text": [
            "yes\n"
          ]
        }
      ]
    },
    {
      "cell_type": "code",
      "source": [
        "#3 Write a python program to remove a given character from string.\n",
        "str = input()\n",
        "ch = input()\n",
        "print(str.replace(ch,\" \")) "
      ],
      "metadata": {
        "colab": {
          "base_uri": "https://localhost:8080/"
        },
        "id": "RJeg0EicyiJ_",
        "outputId": "4f783a3e-4113-4028-d7c4-9d46261f2130"
      },
      "execution_count": 53,
      "outputs": [
        {
          "output_type": "stream",
          "name": "stdout",
          "text": [
            "abcde\n",
            "e\n",
            "abcd \n"
          ]
        }
      ]
    },
    {
      "cell_type": "code",
      "source": [
        "#4 code for factorial of number \n",
        "def factorial(num):\n",
        "  if num<0:\n",
        "    print(\"actorial is not defned\")\n",
        "  elif num>0:\n",
        "    result=1\n",
        "    for i in range(1, num+1):\n",
        "      result=result*i\n",
        "    print(result)\n",
        "  else:\n",
        "     print(\"factorial of 0 is 1\")     \n",
        "  return   "
      ],
      "metadata": {
        "id": "X3_8h-6l3PoS"
      },
      "execution_count": 83,
      "outputs": []
    },
    {
      "cell_type": "code",
      "source": [
        "factorial(-5)"
      ],
      "metadata": {
        "colab": {
          "base_uri": "https://localhost:8080/"
        },
        "id": "6qzkM1A1uj-O",
        "outputId": "278d1f5a-d820-47d2-c46d-bebf54a39e4e"
      },
      "execution_count": 85,
      "outputs": [
        {
          "output_type": "stream",
          "name": "stdout",
          "text": [
            "actorial is not defned\n"
          ]
        }
      ]
    },
    {
      "cell_type": "code",
      "source": [
        "#5 Write a Python program to check whether a number is Palindrome or not?\n",
        "number=int(input())\n",
        "temp=number\n",
        "rev=0\n",
        "while(number>0):\n",
        "  dig=number%10\n",
        "  rev= rev*10 + dig\n",
        "  number=number//10\n",
        "if (temp==rev):\n",
        "  print('pal') \n",
        "else:\n",
        "  print('not')   "
      ],
      "metadata": {
        "colab": {
          "base_uri": "https://localhost:8080/"
        },
        "id": "zG54yXOP0uZM",
        "outputId": "462675b2-9823-4af0-9718-6d08c82e92a5"
      },
      "execution_count": 55,
      "outputs": [
        {
          "output_type": "stream",
          "name": "stdout",
          "text": [
            "555\n",
            "pal\n"
          ]
        }
      ]
    },
    {
      "cell_type": "code",
      "source": [
        "#6 function Create and call....\n",
        "def palin(number):\n",
        "  temp=number\n",
        "  rev=0\n",
        "  while(number>0):\n",
        "   dig=number%10\n",
        "   rev= rev*10 + dig\n",
        "   number=number//10\n",
        "  if (temp==rev):\n",
        "    print('pal') \n",
        "  else:\n",
        "    print('not') \n",
        "  return"
      ],
      "metadata": {
        "id": "aPGX0jgw2zfD"
      },
      "execution_count": 68,
      "outputs": []
    },
    {
      "cell_type": "code",
      "source": [
        "palin(int(input()))"
      ],
      "metadata": {
        "colab": {
          "base_uri": "https://localhost:8080/"
        },
        "id": "H7tAeMkO5Odk",
        "outputId": "d2768108-676e-4899-e2fe-2d6ed39cf476"
      },
      "execution_count": 71,
      "outputs": [
        {
          "output_type": "stream",
          "name": "stdout",
          "text": [
            "121\n",
            "pal\n"
          ]
        }
      ]
    },
    {
      "cell_type": "code",
      "source": [
        "#7.Write a python program to find the last position of a given substring\n",
        "str1 =input()\n",
        "substr=input()\n",
        "index=str1.rfind(substr)\n",
        "print(index)"
      ],
      "metadata": {
        "colab": {
          "base_uri": "https://localhost:8080/"
        },
        "id": "P2D-sXvH7cw7",
        "outputId": "ce52544c-2121-4ff8-c0c8-8926646ed622"
      },
      "execution_count": 1,
      "outputs": [
        {
          "output_type": "stream",
          "name": "stdout",
          "text": [
            "my name is my\n",
            "my\n",
            "11\n"
          ]
        }
      ]
    },
    {
      "cell_type": "code",
      "source": [
        "#8.Write a Python program to change the position of every nth value with the (n+1)th in a list.\n",
        "def change_pos(my_list):\n",
        "  for i in range(0,len(my_list),2):\n",
        "    my_list[i],my_list[i+1]=my_list[i+1],my_list[i]\n",
        "    return my_list\n"
      ],
      "metadata": {
        "id": "DpUPTxgmvDpK"
      },
      "execution_count": 3,
      "outputs": []
    },
    {
      "cell_type": "code",
      "source": [
        "my_list=[0,1,2,3,4,5]\n",
        "print(change_pos(my_list))"
      ],
      "metadata": {
        "colab": {
          "base_uri": "https://localhost:8080/"
        },
        "id": "xBziSP2zxjVF",
        "outputId": "1d7a8589-febf-496f-c9cc-da61057f422d"
      },
      "execution_count": 9,
      "outputs": [
        {
          "output_type": "stream",
          "name": "stdout",
          "text": [
            "[1, 0, 2, 3, 4, 5]\n"
          ]
        }
      ]
    },
    {
      "cell_type": "code",
      "source": [
        "#9 Write a Python program to find common items from two lists.\n",
        "col1=[]\n",
        "col2=[]\n",
        "col1=[item for item in input(\"enter the element of list1: \").split()]\n",
        "col2=[item for item in input(\"enter the element of list2: \").split()]\n",
        "print(col1)\n",
        "print(col2)"
      ],
      "metadata": {
        "colab": {
          "base_uri": "https://localhost:8080/"
        },
        "id": "vHuGeqz9yeLA",
        "outputId": "cf6d16aa-4554-49eb-8290-886b94e7650e"
      },
      "execution_count": 13,
      "outputs": [
        {
          "output_type": "stream",
          "name": "stdout",
          "text": [
            "enter the element of list1: red blue black geen\n",
            "enter the element of list2: white yellow red green\n",
            "['red', 'blue', 'black', 'geen']\n",
            "['white', 'yellow', 'red', 'green']\n"
          ]
        }
      ]
    },
    {
      "cell_type": "code",
      "source": [
        "col1=input(\"enter the element of list1: \").split()\n",
        "col2=input(\"enter the element of list2: \").split()\n",
        "col_comm=[]\n",
        "print(col1)\n",
        "print(col2)\n",
        "for i in range(0,len(col1)):\n",
        "  for j in range(0,len(col2)):\n",
        "    if col1[i]==col2[j]:\n",
        "      col_comm.append(col1[i])\n",
        "print(col_comm)"
      ],
      "metadata": {
        "colab": {
          "base_uri": "https://localhost:8080/"
        },
        "id": "M-Z8DLeT1GBQ",
        "outputId": "4060bd15-cb36-4e06-a59f-24f6adaf8cda"
      },
      "execution_count": 22,
      "outputs": [
        {
          "output_type": "stream",
          "name": "stdout",
          "text": [
            "enter the element of list1: e t l\n",
            "enter the element of list2: e t o\n",
            "['e', 't', 'l']\n",
            "['e', 't', 'o']\n",
            "['e', 't']\n"
          ]
        }
      ]
    },
    {
      "cell_type": "code",
      "source": [
        "col1=input(\"enter the element of list1: \").split()\n",
        "col2=input(\"enter the element of list2: \").split()\n",
        "col_comm=[]\n",
        "print(col1)\n",
        "print(col2)\n",
        "print(set(col1) & set(col2))"
      ],
      "metadata": {
        "id": "0ngjqGk93huh"
      },
      "execution_count": null,
      "outputs": []
    },
    {
      "cell_type": "code",
      "source": [
        "col1=input(\"enter the element of list1: \")\n",
        "col2=input(\"enter the element of list2: \")\n",
        "col_comm=[]\n",
        "print(col1)\n",
        "print(col2)\n",
        "for i in range(0,len(col1)):\n",
        "  for j in range(0,len(col2)):\n",
        "    if col1[i]==col2[j]:\n",
        "      col_comm.append(col1[i])\n",
        "print(col_comm)"
      ],
      "metadata": {
        "colab": {
          "base_uri": "https://localhost:8080/"
        },
        "id": "U0dYHSX_1WmP",
        "outputId": "52db46c1-2b93-434d-8dca-f533760d5d87"
      },
      "execution_count": 25,
      "outputs": [
        {
          "output_type": "stream",
          "name": "stdout",
          "text": [
            "enter the element of list1: etlk\n",
            "enter the element of list2: etgh\n",
            "etlk\n",
            "etgh\n",
            "['e', 't']\n"
          ]
        }
      ]
    },
    {
      "cell_type": "code",
      "source": [],
      "metadata": {
        "id": "fe-qzpM-5eko"
      },
      "execution_count": null,
      "outputs": []
    }
  ]
}