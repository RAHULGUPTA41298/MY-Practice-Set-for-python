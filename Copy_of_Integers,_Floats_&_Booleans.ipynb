{
  "nbformat": 4,
  "nbformat_minor": 0,
  "metadata": {
    "kernelspec": {
      "display_name": "Python 3",
      "language": "python",
      "name": "python3"
    },
    "language_info": {
      "codemirror_mode": {
        "name": "ipython",
        "version": 3
      },
      "file_extension": ".py",
      "mimetype": "text/x-python",
      "name": "python",
      "nbconvert_exporter": "python",
      "pygments_lexer": "ipython3",
      "version": "3.7.4"
    },
    "colab": {
      "provenance": [],
      "collapsed_sections": [],
      "include_colab_link": true
    }
  },
  "cells": [
    {
      "cell_type": "markdown",
      "metadata": {
        "id": "view-in-github",
        "colab_type": "text"
      },
      "source": [
        "<a href=\"https://colab.research.google.com/github/rkgupta1/MY-Practice-Set-for-python/blob/main/Copy_of_Integers%2C_Floats_%26_Booleans.ipynb\" target=\"_parent\"><img src=\"https://colab.research.google.com/assets/colab-badge.svg\" alt=\"Open In Colab\"/></a>"
      ]
    },
    {
      "cell_type": "code",
      "metadata": {
        "id": "etEpKlXqJbO2",
        "colab": {
          "base_uri": "https://localhost:8080/",
          "height": 34
        },
        "outputId": "5a4e32fd-cfed-46a5-f893-36fd459578da"
      },
      "source": [
        "# Division\n",
        "3/2"
      ],
      "execution_count": null,
      "outputs": [
        {
          "output_type": "execute_result",
          "data": {
            "text/plain": [
              "1.5"
            ]
          },
          "metadata": {
            "tags": []
          },
          "execution_count": 6
        }
      ]
    },
    {
      "cell_type": "code",
      "metadata": {
        "id": "_6rPJxI6JbO5",
        "colab": {
          "base_uri": "https://localhost:8080/",
          "height": 34
        },
        "outputId": "e146051d-58d1-40be-cde5-eae19cf9ebba"
      },
      "source": [
        "# Floor Division\n",
        "7//2"
      ],
      "execution_count": null,
      "outputs": [
        {
          "output_type": "execute_result",
          "data": {
            "text/plain": [
              "3"
            ]
          },
          "metadata": {
            "tags": []
          },
          "execution_count": 9
        }
      ]
    },
    {
      "cell_type": "code",
      "metadata": {
        "id": "-nwZ9QhfJbO8",
        "colab": {
          "base_uri": "https://localhost:8080/",
          "height": 34
        },
        "outputId": "d5333f83-f108-4845-ba40-50bfe06747f1"
      },
      "source": [
        "# Exponentiation\n",
        "2**5"
      ],
      "execution_count": null,
      "outputs": [
        {
          "output_type": "execute_result",
          "data": {
            "text/plain": [
              "32"
            ]
          },
          "metadata": {
            "tags": []
          },
          "execution_count": 11
        }
      ]
    },
    {
      "cell_type": "code",
      "metadata": {
        "id": "JuBKbD6rJbO-",
        "colab": {
          "base_uri": "https://localhost:8080/",
          "height": 34
        },
        "outputId": "3012d49a-ae22-4f65-b85f-9cd1fa7f6c84"
      },
      "source": [
        "# Modulus= remainder\n",
        "5%6"
      ],
      "execution_count": null,
      "outputs": [
        {
          "output_type": "execute_result",
          "data": {
            "text/plain": [
              "5"
            ]
          },
          "metadata": {
            "tags": []
          },
          "execution_count": 14
        }
      ]
    },
    {
      "cell_type": "code",
      "source": [
        "#1 Write a python program to check a given number is perfect or not.\n",
        "\n",
        "num= int(input())\n",
        "sum=0\n",
        "for i in range(1,num):\n",
        "    if num%i==0:\n",
        "\n",
        "      sum=sum+i\n",
        "if(sum==num):\n",
        "     print('the number is a perfect number')\n",
        "else:\n",
        "     print('the number is not a pefect number')\n",
        "       \n",
        "        "
      ],
      "metadata": {
        "id": "DtNoBBqe5Dm9",
        "colab": {
          "base_uri": "https://localhost:8080/"
        },
        "outputId": "490419c9-5e17-48c9-b511-9aee770e55b2"
      },
      "execution_count": null,
      "outputs": [
        {
          "output_type": "stream",
          "name": "stdout",
          "text": [
            "6\n",
            "the number is a perfect number\n"
          ]
        }
      ]
    },
    {
      "cell_type": "code",
      "source": [
        "#2 Write a Python program to check whether a String is Palindrome or not?\n",
        "def Palindrome(s):\n",
        "  return s==s[::-1]\n",
        "  "
      ],
      "metadata": {
        "id": "5zEg6QbRqiBh"
      },
      "execution_count": null,
      "outputs": []
    },
    {
      "cell_type": "code",
      "source": [
        "s=\"malayalam\"\n",
        "ans= Palindrome(s)\n",
        "if ans:\n",
        "  print('yes')\n",
        "else:\n",
        "  print('no')  "
      ],
      "metadata": {
        "colab": {
          "base_uri": "https://localhost:8080/"
        },
        "id": "LkU8ytfasB6J",
        "outputId": "0dc4868a-e286-470b-98a4-e603597db1f5"
      },
      "execution_count": null,
      "outputs": [
        {
          "output_type": "stream",
          "name": "stdout",
          "text": [
            "yes\n"
          ]
        }
      ]
    },
    {
      "cell_type": "code",
      "source": [
        "#3 Write a python program to remove a given character from string.\n",
        "str = input()\n",
        "ch = input()\n",
        "print(str.replace(ch,\" \")) "
      ],
      "metadata": {
        "colab": {
          "base_uri": "https://localhost:8080/"
        },
        "id": "RJeg0EicyiJ_",
        "outputId": "4f783a3e-4113-4028-d7c4-9d46261f2130"
      },
      "execution_count": null,
      "outputs": [
        {
          "output_type": "stream",
          "name": "stdout",
          "text": [
            "abcde\n",
            "e\n",
            "abcd \n"
          ]
        }
      ]
    },
    {
      "cell_type": "code",
      "source": [
        "#4 code for factorial of number \n",
        "def factorial(num):\n",
        "  if num<0:\n",
        "    print(\"actorial is not defned\")\n",
        "  elif num>0:\n",
        "    result=1\n",
        "    for i in range(1, num+1):\n",
        "      result=result*i\n",
        "    print(result)\n",
        "  else:\n",
        "     print(\"factorial of 0 is 1\")     \n",
        "  return   "
      ],
      "metadata": {
        "id": "X3_8h-6l3PoS"
      },
      "execution_count": null,
      "outputs": []
    },
    {
      "cell_type": "code",
      "source": [
        "factorial(-5)"
      ],
      "metadata": {
        "colab": {
          "base_uri": "https://localhost:8080/"
        },
        "id": "6qzkM1A1uj-O",
        "outputId": "278d1f5a-d820-47d2-c46d-bebf54a39e4e"
      },
      "execution_count": null,
      "outputs": [
        {
          "output_type": "stream",
          "name": "stdout",
          "text": [
            "actorial is not defned\n"
          ]
        }
      ]
    },
    {
      "cell_type": "code",
      "source": [
        "#5 Write a Python program to check whether a number is Palindrome or not?\n",
        "number=int(input())\n",
        "temp=number\n",
        "rev=0\n",
        "while(number>0):\n",
        "  dig=number%10\n",
        "  rev= rev*10 + dig\n",
        "  number=number//10\n",
        "if (temp==rev):\n",
        "  print('pal') \n",
        "else:\n",
        "  print('not')   "
      ],
      "metadata": {
        "colab": {
          "base_uri": "https://localhost:8080/"
        },
        "id": "zG54yXOP0uZM",
        "outputId": "462675b2-9823-4af0-9718-6d08c82e92a5"
      },
      "execution_count": null,
      "outputs": [
        {
          "output_type": "stream",
          "name": "stdout",
          "text": [
            "555\n",
            "pal\n"
          ]
        }
      ]
    },
    {
      "cell_type": "code",
      "source": [
        "#6 function Create and call....\n",
        "def palin(number):\n",
        "  temp=number\n",
        "  rev=0\n",
        "  while(number>0):\n",
        "   dig=number%10\n",
        "   rev= rev*10 + dig\n",
        "   number=number//10\n",
        "  if (temp==rev):\n",
        "    print('pal') \n",
        "  else:\n",
        "    print('not') \n",
        "  return"
      ],
      "metadata": {
        "id": "aPGX0jgw2zfD"
      },
      "execution_count": null,
      "outputs": []
    },
    {
      "cell_type": "code",
      "source": [
        "palin(int(input()))"
      ],
      "metadata": {
        "colab": {
          "base_uri": "https://localhost:8080/"
        },
        "id": "H7tAeMkO5Odk",
        "outputId": "d2768108-676e-4899-e2fe-2d6ed39cf476"
      },
      "execution_count": null,
      "outputs": [
        {
          "output_type": "stream",
          "name": "stdout",
          "text": [
            "121\n",
            "pal\n"
          ]
        }
      ]
    },
    {
      "cell_type": "code",
      "source": [
        "#7.Write a python program to find the last position of a given substring\n",
        "str1 =input()\n",
        "substr=input()\n",
        "index=str1.rfind(substr)\n",
        "print(index)"
      ],
      "metadata": {
        "colab": {
          "base_uri": "https://localhost:8080/"
        },
        "id": "P2D-sXvH7cw7",
        "outputId": "ce52544c-2121-4ff8-c0c8-8926646ed622"
      },
      "execution_count": null,
      "outputs": [
        {
          "output_type": "stream",
          "name": "stdout",
          "text": [
            "my name is my\n",
            "my\n",
            "11\n"
          ]
        }
      ]
    },
    {
      "cell_type": "code",
      "source": [
        "#8.Write a Python program to change the position of every nth value with the (n+1)th in a list.\n",
        "def change_pos(my_list):\n",
        "  for i in range(0,len(my_list),2):\n",
        "    my_list[i],my_list[i+1]=my_list[i+1],my_list[i]\n",
        "    return my_list\n"
      ],
      "metadata": {
        "id": "DpUPTxgmvDpK"
      },
      "execution_count": null,
      "outputs": []
    },
    {
      "cell_type": "code",
      "source": [
        "my_list=[0,1,2,3,4,5]\n",
        "print(change_pos(my_list))"
      ],
      "metadata": {
        "colab": {
          "base_uri": "https://localhost:8080/"
        },
        "id": "xBziSP2zxjVF",
        "outputId": "1d7a8589-febf-496f-c9cc-da61057f422d"
      },
      "execution_count": null,
      "outputs": [
        {
          "output_type": "stream",
          "name": "stdout",
          "text": [
            "[1, 0, 2, 3, 4, 5]\n"
          ]
        }
      ]
    },
    {
      "cell_type": "code",
      "source": [
        "#9 Write a Python program to find common items from two lists.\n",
        "col1=[]\n",
        "col2=[]\n",
        "col1=[item for item in input(\"enter the element of list1: \").split()]\n",
        "col2=[item for item in input(\"enter the element of list2: \").split()]\n",
        "print(col1)\n",
        "print(col2)"
      ],
      "metadata": {
        "colab": {
          "base_uri": "https://localhost:8080/"
        },
        "id": "vHuGeqz9yeLA",
        "outputId": "cf6d16aa-4554-49eb-8290-886b94e7650e"
      },
      "execution_count": null,
      "outputs": [
        {
          "output_type": "stream",
          "name": "stdout",
          "text": [
            "enter the element of list1: red blue black geen\n",
            "enter the element of list2: white yellow red green\n",
            "['red', 'blue', 'black', 'geen']\n",
            "['white', 'yellow', 'red', 'green']\n"
          ]
        }
      ]
    },
    {
      "cell_type": "code",
      "source": [
        "col1=input(\"enter the element of list1: \").split()\n",
        "col2=input(\"enter the element of list2: \").split()\n",
        "col_comm=[]\n",
        "print(col1)\n",
        "print(col2)\n",
        "for i in range(0,len(col1)):\n",
        "  for j in range(0,len(col2)):\n",
        "    if col1[i]==col2[j]:\n",
        "      col_comm.append(col1[i])\n",
        "print(col_comm)"
      ],
      "metadata": {
        "colab": {
          "base_uri": "https://localhost:8080/"
        },
        "id": "M-Z8DLeT1GBQ",
        "outputId": "4060bd15-cb36-4e06-a59f-24f6adaf8cda"
      },
      "execution_count": null,
      "outputs": [
        {
          "output_type": "stream",
          "name": "stdout",
          "text": [
            "enter the element of list1: e t l\n",
            "enter the element of list2: e t o\n",
            "['e', 't', 'l']\n",
            "['e', 't', 'o']\n",
            "['e', 't']\n"
          ]
        }
      ]
    },
    {
      "cell_type": "code",
      "source": [
        "col1=input(\"enter the element of list1: \").split()\n",
        "col2=input(\"enter the element of list2: \").split()\n",
        "col_comm=[]\n",
        "print(col1)\n",
        "print(col2)\n",
        "print(set(col1) & set(col2))"
      ],
      "metadata": {
        "id": "0ngjqGk93huh"
      },
      "execution_count": null,
      "outputs": []
    },
    {
      "cell_type": "code",
      "source": [
        "col1=input(\"enter the element of list1: \")\n",
        "col2=input(\"enter the element of list2: \")\n",
        "col_comm=[]\n",
        "print(col1)\n",
        "print(col2)\n",
        "for i in range(0,len(col1)):\n",
        "  for j in range(0,len(col2)):\n",
        "    if col1[i]==col2[j]:\n",
        "      col_comm.append(col1[i])\n",
        "print(col_comm)"
      ],
      "metadata": {
        "colab": {
          "base_uri": "https://localhost:8080/"
        },
        "id": "U0dYHSX_1WmP",
        "outputId": "52db46c1-2b93-434d-8dca-f533760d5d87"
      },
      "execution_count": null,
      "outputs": [
        {
          "output_type": "stream",
          "name": "stdout",
          "text": [
            "enter the element of list1: etlk\n",
            "enter the element of list2: etgh\n",
            "etlk\n",
            "etgh\n",
            "['e', 't']\n"
          ]
        }
      ]
    },
    {
      "cell_type": "code",
      "source": [
        "#10 Write a Python program to compute the difference between two lists.\n",
        "#Write a Python program to find a tuple, the smallest second index value from a list of tuples.\n",
        "x = [(4, 1), (1, 2), (6, 0)]\n",
        "print(min(x, key=lambda n: (n[1], -n[0])))"
      ],
      "metadata": {
        "colab": {
          "base_uri": "https://localhost:8080/"
        },
        "id": "fe-qzpM-5eko",
        "outputId": "5540f9d2-2843-42ee-fb00-ba8645f3c099"
      },
      "execution_count": null,
      "outputs": [
        {
          "output_type": "stream",
          "name": "stdout",
          "text": [
            "(6, 0)\n"
          ]
        }
      ]
    },
    {
      "cell_type": "markdown",
      "source": [
        "**concept lambda function**"
      ],
      "metadata": {
        "id": "gP3oUQJlD_Jp"
      }
    },
    {
      "cell_type": "code",
      "source": [
        "##Python Lambda Functions are anonymous function means that the function is without a name.\n",
        "##As we already know that the def keyword is used to define a normal function in Python.\n",
        " ## Similarly, the lambda keyword is used to define an anonymous function in Python. \n",
        "rev_upper = lambda string: string.upper()[::-1]\n",
        "def lambda_cube(y): return y*y*y\n",
        "Max = lambda a, b : a if(a > b) else b\n",
        "lambda x, y: x + y\n"
      ],
      "metadata": {
        "id": "ErBO-3hOCyVP"
      },
      "execution_count": null,
      "outputs": []
    },
    {
      "cell_type": "code",
      "source": [
        "#11 Write a Python program to create a lambda function that adds 15 to a given number passed in as an argument, also create a lambda function that multiplies argument x with argument y and print the result.\n",
        "\n",
        "r = lambda a : a + 15\n",
        "print(r(10))\n",
        "r = lambda x, y : x * y\n",
        "print(r(12, 4))"
      ],
      "metadata": {
        "colab": {
          "base_uri": "https://localhost:8080/"
        },
        "id": "s--y0VzLDxaO",
        "outputId": "61558d9a-3b1e-4526-d82e-8b4577ddf742"
      },
      "execution_count": null,
      "outputs": [
        {
          "output_type": "stream",
          "name": "stdout",
          "text": [
            "25\n",
            "48\n"
          ]
        }
      ]
    },
    {
      "cell_type": "code",
      "source": [
        "#12 Write a Python program to filter a list of integers using Lambda.\n",
        "nums=[]\n",
        "n=int(input('enter number of element: '))\n",
        "for i in range(0,n):\n",
        "  ele=int(input())\n",
        "  nums.append(ele)\n",
        "#nums = [1, 2, 3, 4, 5, 6, 7, 8, 9, 10]\n",
        "print(\"Original list of integers:\")\n",
        "print(nums)\n",
        "print(\"\\nEven numbers from the said list:\")\n",
        "even_nums = list(filter(lambda x: x%2 == 0, nums))\n",
        "print(even_nums)\n",
        "print(\"\\nOdd numbers from the said list:\")\n",
        "odd_nums = list(filter(lambda x: x%2 != 0, nums))\n",
        "print(odd_nums)"
      ],
      "metadata": {
        "colab": {
          "base_uri": "https://localhost:8080/"
        },
        "id": "aXSPoQC9EpN3",
        "outputId": "c96150f8-4d60-44ad-cb3a-0f566397f490"
      },
      "execution_count": null,
      "outputs": [
        {
          "output_type": "stream",
          "name": "stdout",
          "text": [
            "enter number of element: 5\n",
            "4\n",
            "6\n",
            "3\n",
            "8\n",
            "9\n",
            "Original list of integers:\n",
            "[4, 6, 3, 8, 9]\n",
            "\n",
            "Even numbers from the said list:\n",
            "[4, 6, 8]\n",
            "\n",
            "Odd numbers from the said list:\n",
            "[3, 9]\n"
          ]
        }
      ]
    },
    {
      "cell_type": "code",
      "source": [
        "nums=[]\n",
        "n=int(input('enter number of element: '))\n",
        "for i in range(0,n):\n",
        "  ele=[int(input()),int(input())]\n",
        "  nums.append(ele)\n",
        "print(\"Original list of integers:\")\n",
        "print(nums)"
      ],
      "metadata": {
        "colab": {
          "base_uri": "https://localhost:8080/"
        },
        "id": "qiW4N6j-G4DY",
        "outputId": "488b5b4d-790b-4f6b-b972-8b1eb4b008de"
      },
      "execution_count": null,
      "outputs": [
        {
          "output_type": "stream",
          "name": "stdout",
          "text": [
            "enter number of element: 5\n",
            "4\n",
            "6\n",
            "5\n",
            "8\n",
            "3\n",
            "9\n",
            "7\n",
            "6\n",
            "8\n",
            "3\n",
            "Original list of integers:\n",
            "[[4, 6], [5, 8], [3, 9], [7, 6], [8, 3]]\n"
          ]
        }
      ]
    },
    {
      "cell_type": "code",
      "source": [
        "nums=[]\n",
        "nums=[int(item) for item in input(\"enter the list of item: \").split()]\n",
        "print(nums)"
      ],
      "metadata": {
        "colab": {
          "base_uri": "https://localhost:8080/"
        },
        "id": "z09sh_TBKe1F",
        "outputId": "cb94c8f6-2f0a-4939-846f-9d3598c7b6d6"
      },
      "execution_count": null,
      "outputs": [
        {
          "output_type": "stream",
          "name": "stdout",
          "text": [
            "enter the list of item: 5 6 4 8 9 7\n",
            "[5, 6, 4, 8, 9, 7]\n"
          ]
        }
      ]
    },
    {
      "cell_type": "code",
      "source": [
        "nums=[]\n",
        "nums=[int(item) for item in input(\"enter the list of item: \").split()]\n",
        "#nums=input(\"enter the element of list1: \").split()\n",
        "print(nums)\n",
        "print(\"\\nEven numbers from the said list:\")\n",
        "even_nums = list(filter(lambda x: x%2 == 0, nums))\n",
        "print(even_nums)\n",
        "print(\"\\nOdd numbers from the said list:\")\n",
        "odd_nums = list(filter(lambda x: x%2 != 0, nums))\n",
        "print(odd_nums)"
      ],
      "metadata": {
        "id": "ewmUYgCtLBbb"
      },
      "execution_count": null,
      "outputs": []
    },
    {
      "cell_type": "code",
      "source": [
        "#13 Write a Python program to find whether a given string starts with a given character using Lambda.\n",
        "starts_with = lambda x: True if x.startswith('P') else False\n",
        "print(starts_with('Python'))\n",
        "starts_with = lambda x: True if x.startswith('P') else False\n",
        "print(starts_with('Java'))"
      ],
      "metadata": {
        "colab": {
          "base_uri": "https://localhost:8080/"
        },
        "id": "MBQbIe7PLQ2s",
        "outputId": "c4f33db7-e491-48e5-a8dd-db2f191fb7c8"
      },
      "execution_count": null,
      "outputs": [
        {
          "output_type": "stream",
          "name": "stdout",
          "text": [
            "True\n",
            "False\n"
          ]
        }
      ]
    },
    {
      "cell_type": "code",
      "source": [
        "#14 Write a Python program to calculate Euclidean Distance.\n",
        "import math\n",
        "p1 = [4, 0]\n",
        "p2 = [6, 6]\n",
        "distance = math.sqrt( ((p1[0]-p2[0])**2)+((p1[1]-p2[1])**2) )\n",
        "\n",
        "print(distance)"
      ],
      "metadata": {
        "colab": {
          "base_uri": "https://localhost:8080/"
        },
        "id": "lk7PRkUlNCdU",
        "outputId": "9b0a54da-d360-446b-c52d-1fc6c1af8467"
      },
      "execution_count": null,
      "outputs": [
        {
          "output_type": "stream",
          "name": "stdout",
          "text": [
            "6.324555320336759\n"
          ]
        }
      ]
    },
    {
      "cell_type": "code",
      "source": [
        "def distance(x1, y1, x2, y2):\n",
        "   \n",
        "  # Calculating distance\n",
        "   \n",
        "  return (((x2 - x1)**2 +(y2 - y1)**2)**0.5)\n",
        " \n",
        "# Drivers Code\n",
        " \n",
        "print( distance(4, 0, 6, 6))"
      ],
      "metadata": {
        "colab": {
          "base_uri": "https://localhost:8080/"
        },
        "id": "3m3iLJQdN8Pd",
        "outputId": "d00fd471-2a9d-43b6-d02a-00f23ffaf35e"
      },
      "execution_count": null,
      "outputs": [
        {
          "output_type": "stream",
          "name": "stdout",
          "text": [
            "6.324555320336759\n"
          ]
        }
      ]
    },
    {
      "cell_type": "code",
      "source": [
        "import math\n",
        " \n",
        "# Function to calculate distance\n",
        "def distance(x1 , y1 , x2 , y2):\n",
        " \n",
        "    # Calculating distance\n",
        "    return math.sqrt(math.pow(x2 - x1, 2) +\n",
        "                math.pow(y2 - y1, 2) * 1.0)\n",
        " \n",
        "# Drivers Code\n",
        "print(\"%.6f\"%distance(3, 4, 4, 3))"
      ],
      "metadata": {
        "colab": {
          "base_uri": "https://localhost:8080/"
        },
        "id": "XORk2Ud6OMVE",
        "outputId": "cb76fe06-eed5-4925-a908-279d01d6e4da"
      },
      "execution_count": null,
      "outputs": [
        {
          "output_type": "stream",
          "name": "stdout",
          "text": [
            "1.414214\n"
          ]
        }
      ]
    },
    {
      "cell_type": "code",
      "source": [
        "#15 Write a Python Program to Find Next Prime Number."
      ],
      "metadata": {
        "id": "t7YAHjFzOUR7"
      },
      "execution_count": null,
      "outputs": []
    },
    {
      "cell_type": "code",
      "source": [
        "ip_list=[1,1,2,3,4,1,5,7]\n",
        "op=[]\n",
        "for i in range(0,len(ip_list)-1):\n",
        "  if ip_list[i]!=ip_list[i+1]:\n",
        "    op.append(ip_list[i])\n",
        "#for last element    \n",
        "if op[-1]!=ip_list[-1]:\n",
        "   op.append(ip_list[-1])\n",
        "\n",
        "print(op)   \n",
        "     \n",
        "\n",
        "    \n",
        "    \n",
        "\n",
        "    \n"
      ],
      "metadata": {
        "colab": {
          "base_uri": "https://localhost:8080/"
        },
        "id": "HRKXjveS5SUk",
        "outputId": "b8ed1f06-90f7-47aa-c0ac-9eb5450ad2af"
      },
      "execution_count": null,
      "outputs": [
        {
          "output_type": "stream",
          "name": "stdout",
          "text": [
            "[1, 2, 3, 4, 1, 5, 7]\n"
          ]
        }
      ]
    },
    {
      "cell_type": "code",
      "source": [
        "#15 Write a Python Program to Find Next Prime Number. prime  number starts wuth 2\n",
        "def nextprime(n):\n",
        "  prime=0\n",
        "  n=n+1\n"
      ],
      "metadata": {
        "id": "V-JH3Q9tULAF"
      },
      "execution_count": null,
      "outputs": []
    },
    {
      "cell_type": "code",
      "source": [
        "#16 prime or not:  prime no has only factor 2 1 and their own\n",
        "n=int(input('enter the number: '))\n",
        "sum=0\n",
        "i=1\n",
        "while(i<=n):\n",
        "  if n%i==0:\n",
        "    sum=sum+1\n",
        "  i=i+1\n",
        "if sum==2:\n",
        "  print('prime no')\n",
        "else:\n",
        "  print('composite no')  \n",
        "\n"
      ],
      "metadata": {
        "colab": {
          "base_uri": "https://localhost:8080/"
        },
        "id": "ak1G9XJMWNEA",
        "outputId": "ba65d700-0e17-4462-ed1d-c558a713e87a"
      },
      "execution_count": 1,
      "outputs": [
        {
          "output_type": "stream",
          "name": "stdout",
          "text": [
            "enter the number: 5\n",
            "prime no\n"
          ]
        }
      ]
    },
    {
      "cell_type": "code",
      "source": [
        "#16 Write a Python program to swap two number without using third variable.\n",
        "def swap(x,y):\n",
        "   x, y = y, x\n",
        "   return\n",
        " "
      ],
      "metadata": {
        "id": "xbPq4aucZL2b"
      },
      "execution_count": 10,
      "outputs": []
    },
    {
      "cell_type": "code",
      "source": [
        "x = 5\n",
        "y = 7\n",
        " \n",
        "print (\"Before swapping: \")\n",
        "print(\"Value of x : \", x, \" and y : \", y)\n",
        " \n",
        "# code to swap 'x' and 'y'\n",
        "x, y = y, x\n",
        " \n",
        "print (\"After swapping: \")\n",
        "print(\"Value of x : \", x, \" and y : \", y)"
      ],
      "metadata": {
        "colab": {
          "base_uri": "https://localhost:8080/"
        },
        "id": "Z2xqHVLOalyV",
        "outputId": "14211f09-1a96-43b0-cc42-1c2573881a5d"
      },
      "execution_count": 12,
      "outputs": [
        {
          "output_type": "stream",
          "name": "stdout",
          "text": [
            "Before swapping: \n",
            "Value of x :  5  and y :  7\n",
            "After swapping: \n",
            "Value of x :  7  and y :  5\n"
          ]
        }
      ]
    },
    {
      "cell_type": "code",
      "source": [
        "x = -5.4\n",
        "y = -10.3\n",
        " \n",
        "print (\"Before swapping: \")\n",
        "print(\"Value of x : \", x, \" and y : \", y)\n",
        " \n",
        "# Swap code\n",
        "x = x + y # x = 15.7, y = 10.3\n",
        "y = x - y # x = 15.7, y = 5.4\n",
        "x = x - y # x = 10.3, y = 5.4\n",
        " \n",
        "print (\"After swapping: \")\n",
        "print(\"Value of x : \", x, \" and y : \", y)"
      ],
      "metadata": {
        "colab": {
          "base_uri": "https://localhost:8080/"
        },
        "id": "qBj3uZCPbHaA",
        "outputId": "f4b06d20-4001-4020-9cf6-eeea47a1ccc4"
      },
      "execution_count": 15,
      "outputs": [
        {
          "output_type": "stream",
          "name": "stdout",
          "text": [
            "Before swapping: \n",
            "Value of x :  -5.4  and y :  -10.3\n",
            "After swapping: \n",
            "Value of x :  -10.3  and y :  -5.4\n"
          ]
        }
      ]
    },
    {
      "cell_type": "code",
      "source": [
        "#17 Write a program in Python to check whether an integer is Armstrong number or not.\n",
        "num=int(input())\n",
        "b=len(str(num))\n",
        "rum=num\n",
        "sum=0\n",
        "while num!=0:\n",
        "  rem=num%10\n",
        "  sum=sum+(rem**b)\n",
        "  num=num//10\n",
        "print(sum)\n",
        "if sum==rum:\n",
        "  print('armstong')\n",
        "else:\n",
        "  print('no')  \n"
      ],
      "metadata": {
        "colab": {
          "base_uri": "https://localhost:8080/"
        },
        "id": "8jfN1R1TbdC7",
        "outputId": "e036105f-02a6-4359-d186-674015beb738"
      },
      "execution_count": 22,
      "outputs": [
        {
          "output_type": "stream",
          "name": "stdout",
          "text": [
            "153\n",
            "153\n",
            "armstong\n"
          ]
        }
      ]
    },
    {
      "cell_type": "code",
      "source": [
        "#18 Write a Python program to find an integer exponent x such that a^x = n."
      ],
      "metadata": {
        "id": "Xklnk2dQfGng"
      },
      "execution_count": null,
      "outputs": []
    },
    {
      "cell_type": "code",
      "source": [
        "#19 Write a Python program to find the largest negative and smallest positive numbers (or 0 if none).\n",
        "def test(nums):\n",
        "    pos = [n for n in nums if n > 0]\n",
        "    neg = [n for n in nums if n < 0]\n",
        "    return [max(neg) if neg else 0, min(pos) if pos else 0]   \n",
        "nums=[-12, -6, 300, -40, 2, 2, 3, 57, -50, -22, 12, 40, 9, 11, 18]\n",
        "print(\"List of numbers:\",nums)\n",
        "print(\"Largest negative and smallest positive numbers (or 0 if none) of the said list:\")\n",
        "print(test(nums))"
      ],
      "metadata": {
        "colab": {
          "base_uri": "https://localhost:8080/"
        },
        "id": "ZCT4YjHAgEUy",
        "outputId": "c3500368-9ab0-483b-a05f-abff084c3692"
      },
      "execution_count": 23,
      "outputs": [
        {
          "output_type": "stream",
          "name": "stdout",
          "text": [
            "List of numbers: [-12, -6, 300, -40, 2, 2, 3, 57, -50, -22, 12, 40, 9, 11, 18]\n",
            "Largest negative and smallest positive numbers (or 0 if none) of the said list:\n",
            "[-6, 2]\n"
          ]
        }
      ]
    },
    {
      "cell_type": "code",
      "source": [
        "#20 Write a Python program to find the biggest even number between two numbers inclusive.\n",
        "def test(m, n):\n",
        "  lst=[]\n",
        "  for num in range(m,n+1):\n",
        "     if num%2==0:    \n",
        "       lst.append(num)\n",
        "  #print(lst)\n",
        "  return(max(lst))        "
      ],
      "metadata": {
        "id": "insFbl0bhgC0"
      },
      "execution_count": 49,
      "outputs": []
    },
    {
      "cell_type": "code",
      "source": [
        "test(25,29)"
      ],
      "metadata": {
        "colab": {
          "base_uri": "https://localhost:8080/"
        },
        "id": "1y_tfN3NkTaa",
        "outputId": "6d018b1f-09b5-475f-bfa1-4f4ceb4d8758"
      },
      "execution_count": 50,
      "outputs": [
        {
          "output_type": "execute_result",
          "data": {
            "text/plain": [
              "28"
            ]
          },
          "metadata": {},
          "execution_count": 50
        }
      ]
    }
  ]
}