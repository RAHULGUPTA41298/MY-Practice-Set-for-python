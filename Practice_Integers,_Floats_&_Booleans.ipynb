{
  "nbformat": 4,
  "nbformat_minor": 0,
  "metadata": {
    "kernelspec": {
      "display_name": "Python 3",
      "language": "python",
      "name": "python3"
    },
    "language_info": {
      "codemirror_mode": {
        "name": "ipython",
        "version": 3
      },
      "file_extension": ".py",
      "mimetype": "text/x-python",
      "name": "python",
      "nbconvert_exporter": "python",
      "pygments_lexer": "ipython3",
      "version": "3.7.4"
    },
    "colab": {
      "provenance": [],
      "collapsed_sections": [],
      "include_colab_link": true
    }
  },
  "cells": [
    {
      "cell_type": "markdown",
      "metadata": {
        "id": "view-in-github",
        "colab_type": "text"
      },
      "source": [
        "<a href=\"https://colab.research.google.com/github/rkgupta1/MY-Practice-Set-for-python/blob/main/Practice_Integers%2C_Floats_%26_Booleans.ipynb\" target=\"_parent\"><img src=\"https://colab.research.google.com/assets/colab-badge.svg\" alt=\"Open In Colab\"/></a>"
      ]
    },
    {
      "cell_type": "code",
      "metadata": {
        "id": "etEpKlXqJbO2",
        "colab": {
          "base_uri": "https://localhost:8080/",
          "height": 34
        },
        "outputId": "5a4e32fd-cfed-46a5-f893-36fd459578da"
      },
      "source": [
        "# Division\n",
        "3/2"
      ],
      "execution_count": null,
      "outputs": [
        {
          "output_type": "execute_result",
          "data": {
            "text/plain": [
              "1.5"
            ]
          },
          "metadata": {
            "tags": []
          },
          "execution_count": 6
        }
      ]
    },
    {
      "cell_type": "code",
      "source": [
        "# Division\n",
        "3/2"
      ],
      "metadata": {
        "colab": {
          "base_uri": "https://localhost:8080/"
        },
        "id": "k5uR16OhTTMS",
        "outputId": "527d6810-089c-4f71-bb56-b6ec32698c95"
      },
      "execution_count": 1,
      "outputs": [
        {
          "output_type": "execute_result",
          "data": {
            "text/plain": [
              "1.5"
            ]
          },
          "metadata": {},
          "execution_count": 1
        }
      ]
    },
    {
      "cell_type": "code",
      "metadata": {
        "id": "_6rPJxI6JbO5",
        "colab": {
          "base_uri": "https://localhost:8080/",
          "height": 34
        },
        "outputId": "e146051d-58d1-40be-cde5-eae19cf9ebba"
      },
      "source": [
        "# Floor Division\n",
        "7//2"
      ],
      "execution_count": null,
      "outputs": [
        {
          "output_type": "execute_result",
          "data": {
            "text/plain": [
              "3"
            ]
          },
          "metadata": {
            "tags": []
          },
          "execution_count": 9
        }
      ]
    },
    {
      "cell_type": "code",
      "metadata": {
        "id": "-nwZ9QhfJbO8",
        "colab": {
          "base_uri": "https://localhost:8080/",
          "height": 34
        },
        "outputId": "d5333f83-f108-4845-ba40-50bfe06747f1"
      },
      "source": [
        "# Exponentiation\n",
        "2**5"
      ],
      "execution_count": null,
      "outputs": [
        {
          "output_type": "execute_result",
          "data": {
            "text/plain": [
              "32"
            ]
          },
          "metadata": {
            "tags": []
          },
          "execution_count": 11
        }
      ]
    },
    {
      "cell_type": "code",
      "metadata": {
        "id": "JuBKbD6rJbO-",
        "colab": {
          "base_uri": "https://localhost:8080/",
          "height": 34
        },
        "outputId": "3012d49a-ae22-4f65-b85f-9cd1fa7f6c84"
      },
      "source": [
        "# Modulus= remainder\n",
        "5%6"
      ],
      "execution_count": null,
      "outputs": [
        {
          "output_type": "execute_result",
          "data": {
            "text/plain": [
              "5"
            ]
          },
          "metadata": {
            "tags": []
          },
          "execution_count": 14
        }
      ]
    },
    {
      "cell_type": "code",
      "source": [
        "#shorting of list\n",
        "#    lst.short()"
      ],
      "metadata": {
        "id": "Rjx5Dt1u7zsn"
      },
      "execution_count": null,
      "outputs": []
    },
    {
      "cell_type": "code",
      "source": [
        "#1 Write a python program to check a given number is perfect or not.\n",
        "\n",
        "num= int(input())\n",
        "sum=0\n",
        "for i in range(1,num):\n",
        "    if num%i==0:\n",
        "\n",
        "      sum=sum+i\n",
        "if(sum==num):\n",
        "     print('the number is a perfect number')\n",
        "else:\n",
        "     print('the number is not a pefect number')\n",
        "       \n",
        "        "
      ],
      "metadata": {
        "id": "DtNoBBqe5Dm9",
        "colab": {
          "base_uri": "https://localhost:8080/"
        },
        "outputId": "490419c9-5e17-48c9-b511-9aee770e55b2"
      },
      "execution_count": null,
      "outputs": [
        {
          "output_type": "stream",
          "name": "stdout",
          "text": [
            "6\n",
            "the number is a perfect number\n"
          ]
        }
      ]
    },
    {
      "cell_type": "code",
      "source": [
        "#2 Write a Python program to check whether a String is Palindrome or not?\n",
        "def Palindrome(s):\n",
        "  return s==s[::-1]\n",
        "  "
      ],
      "metadata": {
        "id": "5zEg6QbRqiBh"
      },
      "execution_count": null,
      "outputs": []
    },
    {
      "cell_type": "code",
      "source": [
        "s=\"malayalam\"\n",
        "ans= Palindrome(s)\n",
        "if ans:\n",
        "  print('yes')\n",
        "else:\n",
        "  print('no')  "
      ],
      "metadata": {
        "colab": {
          "base_uri": "https://localhost:8080/"
        },
        "id": "LkU8ytfasB6J",
        "outputId": "0dc4868a-e286-470b-98a4-e603597db1f5"
      },
      "execution_count": null,
      "outputs": [
        {
          "output_type": "stream",
          "name": "stdout",
          "text": [
            "yes\n"
          ]
        }
      ]
    },
    {
      "cell_type": "code",
      "source": [
        "#3 Write a python program to remove a given character from string.\n",
        "str = input()\n",
        "ch = input()\n",
        "print(str.replace(ch,\" \")) "
      ],
      "metadata": {
        "colab": {
          "base_uri": "https://localhost:8080/"
        },
        "id": "RJeg0EicyiJ_",
        "outputId": "4f783a3e-4113-4028-d7c4-9d46261f2130"
      },
      "execution_count": null,
      "outputs": [
        {
          "output_type": "stream",
          "name": "stdout",
          "text": [
            "abcde\n",
            "e\n",
            "abcd \n"
          ]
        }
      ]
    },
    {
      "cell_type": "code",
      "source": [
        "#4 code for factorial of number \n",
        "def factorial(num):\n",
        "  if num<0:\n",
        "    print(\"actorial is not defned\")\n",
        "  elif num>0:\n",
        "    result=1\n",
        "    for i in range(1, num+1):\n",
        "      result=result*i\n",
        "    print(result)\n",
        "  else:\n",
        "     print(\"factorial of 0 is 1\")     \n",
        "  return   "
      ],
      "metadata": {
        "id": "X3_8h-6l3PoS"
      },
      "execution_count": null,
      "outputs": []
    },
    {
      "cell_type": "code",
      "source": [
        "factorial(-5)"
      ],
      "metadata": {
        "colab": {
          "base_uri": "https://localhost:8080/"
        },
        "id": "6qzkM1A1uj-O",
        "outputId": "278d1f5a-d820-47d2-c46d-bebf54a39e4e"
      },
      "execution_count": null,
      "outputs": [
        {
          "output_type": "stream",
          "name": "stdout",
          "text": [
            "actorial is not defned\n"
          ]
        }
      ]
    },
    {
      "cell_type": "code",
      "source": [
        "#5 Write a Python program to check whether a number is Palindrome or not?\n",
        "number=int(input())\n",
        "temp=number\n",
        "rev=0\n",
        "while(number>0):\n",
        "  dig=number%10\n",
        "  rev= rev*10 + dig\n",
        "  number=number//10\n",
        "if (temp==rev):\n",
        "  print('pal') \n",
        "else:\n",
        "  print('not')   "
      ],
      "metadata": {
        "colab": {
          "base_uri": "https://localhost:8080/"
        },
        "id": "zG54yXOP0uZM",
        "outputId": "462675b2-9823-4af0-9718-6d08c82e92a5"
      },
      "execution_count": null,
      "outputs": [
        {
          "output_type": "stream",
          "name": "stdout",
          "text": [
            "555\n",
            "pal\n"
          ]
        }
      ]
    },
    {
      "cell_type": "code",
      "source": [
        "#6 function Create and call....\n",
        "def palin(number):\n",
        "  temp=number\n",
        "  rev=0\n",
        "  while(number>0):\n",
        "   dig=number%10\n",
        "   rev= rev*10 + dig\n",
        "   number=number//10\n",
        "  if (temp==rev):\n",
        "    print('pal') \n",
        "  else:\n",
        "    print('not') \n",
        "  return"
      ],
      "metadata": {
        "id": "aPGX0jgw2zfD"
      },
      "execution_count": null,
      "outputs": []
    },
    {
      "cell_type": "code",
      "source": [
        "palin(int(input()))"
      ],
      "metadata": {
        "colab": {
          "base_uri": "https://localhost:8080/"
        },
        "id": "H7tAeMkO5Odk",
        "outputId": "d2768108-676e-4899-e2fe-2d6ed39cf476"
      },
      "execution_count": null,
      "outputs": [
        {
          "output_type": "stream",
          "name": "stdout",
          "text": [
            "121\n",
            "pal\n"
          ]
        }
      ]
    },
    {
      "cell_type": "code",
      "source": [
        "#7.Write a python program to find the last position of a given substring\n",
        "str1 =input()\n",
        "substr=input()\n",
        "index=str1.rfind(substr)\n",
        "print(index)"
      ],
      "metadata": {
        "colab": {
          "base_uri": "https://localhost:8080/"
        },
        "id": "P2D-sXvH7cw7",
        "outputId": "ce52544c-2121-4ff8-c0c8-8926646ed622"
      },
      "execution_count": null,
      "outputs": [
        {
          "output_type": "stream",
          "name": "stdout",
          "text": [
            "my name is my\n",
            "my\n",
            "11\n"
          ]
        }
      ]
    },
    {
      "cell_type": "code",
      "source": [
        "#8.Write a Python program to change the position of every nth value with the (n+1)th in a list.\n",
        "def change_pos(my_list):\n",
        "  for i in range(0,len(my_list),2):\n",
        "    my_list[i],my_list[i+1]=my_list[i+1],my_list[i]\n",
        "    return my_list\n"
      ],
      "metadata": {
        "id": "DpUPTxgmvDpK"
      },
      "execution_count": null,
      "outputs": []
    },
    {
      "cell_type": "code",
      "source": [
        "my_list=[0,1,2,3,4,5]\n",
        "print(change_pos(my_list))"
      ],
      "metadata": {
        "colab": {
          "base_uri": "https://localhost:8080/"
        },
        "id": "xBziSP2zxjVF",
        "outputId": "1d7a8589-febf-496f-c9cc-da61057f422d"
      },
      "execution_count": null,
      "outputs": [
        {
          "output_type": "stream",
          "name": "stdout",
          "text": [
            "[1, 0, 2, 3, 4, 5]\n"
          ]
        }
      ]
    },
    {
      "cell_type": "code",
      "source": [
        "#9 Write a Python program to find common items from two lists.\n",
        "col1=[]\n",
        "col2=[]\n",
        "col1=[item for item in input(\"enter the element of list1: \").split()]\n",
        "col2=[item for item in input(\"enter the element of list2: \").split()]\n",
        "print(col1)\n",
        "print(col2)"
      ],
      "metadata": {
        "colab": {
          "base_uri": "https://localhost:8080/"
        },
        "id": "vHuGeqz9yeLA",
        "outputId": "cf6d16aa-4554-49eb-8290-886b94e7650e"
      },
      "execution_count": null,
      "outputs": [
        {
          "output_type": "stream",
          "name": "stdout",
          "text": [
            "enter the element of list1: red blue black geen\n",
            "enter the element of list2: white yellow red green\n",
            "['red', 'blue', 'black', 'geen']\n",
            "['white', 'yellow', 'red', 'green']\n"
          ]
        }
      ]
    },
    {
      "cell_type": "code",
      "source": [
        "col1=input(\"enter the element of list1: \").split()\n",
        "col2=input(\"enter the element of list2: \").split()\n",
        "col_comm=[]\n",
        "print(col1)\n",
        "print(col2)\n",
        "for i in range(0,len(col1)):\n",
        "  for j in range(0,len(col2)):\n",
        "    if col1[i]==col2[j]:\n",
        "      col_comm.append(col1[i])\n",
        "print(col_comm)"
      ],
      "metadata": {
        "colab": {
          "base_uri": "https://localhost:8080/"
        },
        "id": "M-Z8DLeT1GBQ",
        "outputId": "4060bd15-cb36-4e06-a59f-24f6adaf8cda"
      },
      "execution_count": null,
      "outputs": [
        {
          "output_type": "stream",
          "name": "stdout",
          "text": [
            "enter the element of list1: e t l\n",
            "enter the element of list2: e t o\n",
            "['e', 't', 'l']\n",
            "['e', 't', 'o']\n",
            "['e', 't']\n"
          ]
        }
      ]
    },
    {
      "cell_type": "code",
      "source": [
        "col1=input(\"enter the element of list1: \").split()\n",
        "col2=input(\"enter the element of list2: \").split()\n",
        "col_comm=[]\n",
        "print(col1)\n",
        "print(col2)\n",
        "print(set(col1) & set(col2))"
      ],
      "metadata": {
        "id": "0ngjqGk93huh"
      },
      "execution_count": null,
      "outputs": []
    },
    {
      "cell_type": "code",
      "source": [
        "col1=input(\"enter the element of list1: \")\n",
        "col2=input(\"enter the element of list2: \")\n",
        "col_comm=[]\n",
        "print(col1)\n",
        "print(col2)\n",
        "for i in range(0,len(col1)):\n",
        "  for j in range(0,len(col2)):\n",
        "    if col1[i]==col2[j]:\n",
        "      col_comm.append(col1[i])\n",
        "print(col_comm)"
      ],
      "metadata": {
        "colab": {
          "base_uri": "https://localhost:8080/"
        },
        "id": "U0dYHSX_1WmP",
        "outputId": "52db46c1-2b93-434d-8dca-f533760d5d87"
      },
      "execution_count": null,
      "outputs": [
        {
          "output_type": "stream",
          "name": "stdout",
          "text": [
            "enter the element of list1: etlk\n",
            "enter the element of list2: etgh\n",
            "etlk\n",
            "etgh\n",
            "['e', 't']\n"
          ]
        }
      ]
    },
    {
      "cell_type": "code",
      "source": [
        "#10 Write a Python program to compute the difference between two lists.\n",
        "#Write a Python program to find a tuple, the smallest second index value from a list of tuples.\n",
        "x = [(4, 1), (1, 2), (6, 0)]\n",
        "print(min(x, key=lambda n: (n[1], -n[0])))"
      ],
      "metadata": {
        "colab": {
          "base_uri": "https://localhost:8080/"
        },
        "id": "fe-qzpM-5eko",
        "outputId": "5540f9d2-2843-42ee-fb00-ba8645f3c099"
      },
      "execution_count": null,
      "outputs": [
        {
          "output_type": "stream",
          "name": "stdout",
          "text": [
            "(6, 0)\n"
          ]
        }
      ]
    },
    {
      "cell_type": "markdown",
      "source": [
        "**concept lambda function**"
      ],
      "metadata": {
        "id": "gP3oUQJlD_Jp"
      }
    },
    {
      "cell_type": "code",
      "source": [
        "##Python Lambda Functions are anonymous function means that the function is without a name.\n",
        "##As we already know that the def keyword is used to define a normal function in Python.\n",
        " ## Similarly, the lambda keyword is used to define an anonymous function in Python. \n",
        "rev_upper = lambda string: string.upper()[::-1]\n",
        "def lambda_cube(y): return y*y*y\n",
        "Max = lambda a, b : a if(a > b) else b\n",
        "lambda x, y: x + y\n"
      ],
      "metadata": {
        "id": "ErBO-3hOCyVP"
      },
      "execution_count": null,
      "outputs": []
    },
    {
      "cell_type": "code",
      "source": [
        "#11 Write a Python program to create a lambda function that adds 15 to a given number passed in as an argument, also create a lambda function that multiplies argument x with argument y and print the result.\n",
        "\n",
        "r = lambda a : a + 15\n",
        "print(r(10))\n",
        "r = lambda x, y : x * y\n",
        "print(r(12, 4))"
      ],
      "metadata": {
        "colab": {
          "base_uri": "https://localhost:8080/"
        },
        "id": "s--y0VzLDxaO",
        "outputId": "61558d9a-3b1e-4526-d82e-8b4577ddf742"
      },
      "execution_count": null,
      "outputs": [
        {
          "output_type": "stream",
          "name": "stdout",
          "text": [
            "25\n",
            "48\n"
          ]
        }
      ]
    },
    {
      "cell_type": "code",
      "source": [
        "#12 Write a Python program to filter a list of integers using Lambda.\n",
        "nums=[]\n",
        "n=int(input('enter number of element: '))\n",
        "for i in range(0,n):\n",
        "  ele=int(input())\n",
        "  nums.append(ele)\n",
        "#nums = [1, 2, 3, 4, 5, 6, 7, 8, 9, 10]\n",
        "print(\"Original list of integers:\")\n",
        "print(nums)\n",
        "print(\"\\nEven numbers from the said list:\")\n",
        "even_nums = list(filter(lambda x: x%2 == 0, nums))\n",
        "print(even_nums)\n",
        "print(\"\\nOdd numbers from the said list:\")\n",
        "odd_nums = list(filter(lambda x: x%2 != 0, nums))\n",
        "print(odd_nums)"
      ],
      "metadata": {
        "colab": {
          "base_uri": "https://localhost:8080/"
        },
        "id": "aXSPoQC9EpN3",
        "outputId": "c96150f8-4d60-44ad-cb3a-0f566397f490"
      },
      "execution_count": null,
      "outputs": [
        {
          "output_type": "stream",
          "name": "stdout",
          "text": [
            "enter number of element: 5\n",
            "4\n",
            "6\n",
            "3\n",
            "8\n",
            "9\n",
            "Original list of integers:\n",
            "[4, 6, 3, 8, 9]\n",
            "\n",
            "Even numbers from the said list:\n",
            "[4, 6, 8]\n",
            "\n",
            "Odd numbers from the said list:\n",
            "[3, 9]\n"
          ]
        }
      ]
    },
    {
      "cell_type": "code",
      "source": [
        "nums=[]\n",
        "n=int(input('enter number of element: '))\n",
        "for i in range(0,n):\n",
        "  ele=[int(input()),int(input())]\n",
        "  nums.append(ele)\n",
        "print(\"Original list of integers:\")\n",
        "print(nums)"
      ],
      "metadata": {
        "colab": {
          "base_uri": "https://localhost:8080/"
        },
        "id": "qiW4N6j-G4DY",
        "outputId": "488b5b4d-790b-4f6b-b972-8b1eb4b008de"
      },
      "execution_count": null,
      "outputs": [
        {
          "output_type": "stream",
          "name": "stdout",
          "text": [
            "enter number of element: 5\n",
            "4\n",
            "6\n",
            "5\n",
            "8\n",
            "3\n",
            "9\n",
            "7\n",
            "6\n",
            "8\n",
            "3\n",
            "Original list of integers:\n",
            "[[4, 6], [5, 8], [3, 9], [7, 6], [8, 3]]\n"
          ]
        }
      ]
    },
    {
      "cell_type": "code",
      "source": [
        "nums=[]\n",
        "nums=[int(item) for item in input(\"enter the list of item: \").split()]\n",
        "print(nums)"
      ],
      "metadata": {
        "colab": {
          "base_uri": "https://localhost:8080/"
        },
        "id": "z09sh_TBKe1F",
        "outputId": "cb94c8f6-2f0a-4939-846f-9d3598c7b6d6"
      },
      "execution_count": null,
      "outputs": [
        {
          "output_type": "stream",
          "name": "stdout",
          "text": [
            "enter the list of item: 5 6 4 8 9 7\n",
            "[5, 6, 4, 8, 9, 7]\n"
          ]
        }
      ]
    },
    {
      "cell_type": "code",
      "source": [
        "nums=[]\n",
        "nums=[int(item) for item in input(\"enter the list of item: \").split()]\n",
        "#nums=input(\"enter the element of list1: \").split()\n",
        "print(nums)\n",
        "print(\"\\nEven numbers from the said list:\")\n",
        "even_nums = list(filter(lambda x: x%2 == 0, nums))\n",
        "print(even_nums)\n",
        "print(\"\\nOdd numbers from the said list:\")\n",
        "odd_nums = list(filter(lambda x: x%2 != 0, nums))\n",
        "print(odd_nums)"
      ],
      "metadata": {
        "id": "ewmUYgCtLBbb"
      },
      "execution_count": null,
      "outputs": []
    },
    {
      "cell_type": "code",
      "source": [
        "#13 Write a Python program to find whether a given string starts with a given character using Lambda.\n",
        "starts_with = lambda x: True if x.startswith('P') else False\n",
        "print(starts_with('Python'))\n",
        "starts_with = lambda x: True if x.startswith('P') else False\n",
        "print(starts_with('Java'))"
      ],
      "metadata": {
        "colab": {
          "base_uri": "https://localhost:8080/"
        },
        "id": "MBQbIe7PLQ2s",
        "outputId": "c4f33db7-e491-48e5-a8dd-db2f191fb7c8"
      },
      "execution_count": null,
      "outputs": [
        {
          "output_type": "stream",
          "name": "stdout",
          "text": [
            "True\n",
            "False\n"
          ]
        }
      ]
    },
    {
      "cell_type": "code",
      "source": [
        "#14 Write a Python program to calculate Euclidean Distance.\n",
        "import math\n",
        "p1 = [4, 0]\n",
        "p2 = [6, 6]\n",
        "distance = math.sqrt( ((p1[0]-p2[0])**2)+((p1[1]-p2[1])**2) )\n",
        "\n",
        "print(distance)"
      ],
      "metadata": {
        "colab": {
          "base_uri": "https://localhost:8080/"
        },
        "id": "lk7PRkUlNCdU",
        "outputId": "9b0a54da-d360-446b-c52d-1fc6c1af8467"
      },
      "execution_count": null,
      "outputs": [
        {
          "output_type": "stream",
          "name": "stdout",
          "text": [
            "6.324555320336759\n"
          ]
        }
      ]
    },
    {
      "cell_type": "code",
      "source": [
        "def distance(x1, y1, x2, y2):\n",
        "   \n",
        "  # Calculating distance\n",
        "   \n",
        "  return (((x2 - x1)**2 +(y2 - y1)**2)**0.5)\n",
        " \n",
        "# Drivers Code\n",
        " \n",
        "print( distance(4, 0, 6, 6))"
      ],
      "metadata": {
        "colab": {
          "base_uri": "https://localhost:8080/"
        },
        "id": "3m3iLJQdN8Pd",
        "outputId": "d00fd471-2a9d-43b6-d02a-00f23ffaf35e"
      },
      "execution_count": null,
      "outputs": [
        {
          "output_type": "stream",
          "name": "stdout",
          "text": [
            "6.324555320336759\n"
          ]
        }
      ]
    },
    {
      "cell_type": "code",
      "source": [
        "import math\n",
        " \n",
        "# Function to calculate distance\n",
        "def distance(x1 , y1 , x2 , y2):\n",
        " \n",
        "    # Calculating distance\n",
        "    return math.sqrt(math.pow(x2 - x1, 2) +\n",
        "                math.pow(y2 - y1, 2) * 1.0)\n",
        " \n",
        "# Drivers Code\n",
        "print(\"%.6f\"%distance(3, 4, 4, 3))"
      ],
      "metadata": {
        "colab": {
          "base_uri": "https://localhost:8080/"
        },
        "id": "XORk2Ud6OMVE",
        "outputId": "cb76fe06-eed5-4925-a908-279d01d6e4da"
      },
      "execution_count": null,
      "outputs": [
        {
          "output_type": "stream",
          "name": "stdout",
          "text": [
            "1.414214\n"
          ]
        }
      ]
    },
    {
      "cell_type": "code",
      "source": [
        "#15 Write a Python Program to Find Next Prime Number."
      ],
      "metadata": {
        "id": "t7YAHjFzOUR7"
      },
      "execution_count": null,
      "outputs": []
    },
    {
      "cell_type": "code",
      "source": [
        "#interview question\n",
        "ip_list=[1,1,2,3,4,1,5,7]\n",
        "op=[]\n",
        "for i in range(0,len(ip_list)-1):\n",
        "  if ip_list[i]!=ip_list[i+1]:\n",
        "    op.append(ip_list[i])\n",
        "#for last element    \n",
        "if op[-1]!=ip_list[-1]:\n",
        "   op.append(ip_list[-1])\n",
        "\n",
        "print(op)"
      ],
      "metadata": {
        "colab": {
          "base_uri": "https://localhost:8080/"
        },
        "id": "HRKXjveS5SUk",
        "outputId": "b8ed1f06-90f7-47aa-c0ac-9eb5450ad2af"
      },
      "execution_count": null,
      "outputs": [
        {
          "output_type": "stream",
          "name": "stdout",
          "text": [
            "[1, 2, 3, 4, 1, 5, 7]\n"
          ]
        }
      ]
    },
    {
      "cell_type": "code",
      "source": [
        "#15 Write a Python Program to Find Next Prime Number. prime  number starts wuth 2\n",
        "def nextprime(n):\n",
        "  prime=0\n",
        "  n=n+1\n"
      ],
      "metadata": {
        "id": "V-JH3Q9tULAF"
      },
      "execution_count": null,
      "outputs": []
    },
    {
      "cell_type": "code",
      "source": [
        "#16 prime or not:  prime no has only factor 2 1 and their own\n",
        "n=int(input('enter the number: '))\n",
        "sum=0\n",
        "i=1\n",
        "while(i<=n):\n",
        "  if n%i==0:\n",
        "    sum=sum+1\n",
        "  i=i+1\n",
        "if sum==2:\n",
        "  print('prime no')\n",
        "else:\n",
        "  print('composite no')  \n",
        "\n"
      ],
      "metadata": {
        "colab": {
          "base_uri": "https://localhost:8080/"
        },
        "id": "ak1G9XJMWNEA",
        "outputId": "ba65d700-0e17-4462-ed1d-c558a713e87a"
      },
      "execution_count": null,
      "outputs": [
        {
          "output_type": "stream",
          "name": "stdout",
          "text": [
            "enter the number: 5\n",
            "prime no\n"
          ]
        }
      ]
    },
    {
      "cell_type": "code",
      "source": [
        "#16 Write a Python program to swap two number without using third variable.\n",
        "def swap(x,y):\n",
        "   x, y = y, x\n",
        "   return\n",
        " "
      ],
      "metadata": {
        "id": "xbPq4aucZL2b"
      },
      "execution_count": null,
      "outputs": []
    },
    {
      "cell_type": "code",
      "source": [
        "x = 5\n",
        "y = 7\n",
        " \n",
        "print (\"Before swapping: \")\n",
        "print(\"Value of x : \", x, \" and y : \", y)\n",
        " \n",
        "# code to swap 'x' and 'y'\n",
        "x, y = y, x\n",
        " \n",
        "print (\"After swapping: \")\n",
        "print(\"Value of x : \", x, \" and y : \", y)"
      ],
      "metadata": {
        "colab": {
          "base_uri": "https://localhost:8080/"
        },
        "id": "Z2xqHVLOalyV",
        "outputId": "14211f09-1a96-43b0-cc42-1c2573881a5d"
      },
      "execution_count": null,
      "outputs": [
        {
          "output_type": "stream",
          "name": "stdout",
          "text": [
            "Before swapping: \n",
            "Value of x :  5  and y :  7\n",
            "After swapping: \n",
            "Value of x :  7  and y :  5\n"
          ]
        }
      ]
    },
    {
      "cell_type": "code",
      "source": [
        "x = -5.4\n",
        "y = -10.3\n",
        " \n",
        "print (\"Before swapping: \")\n",
        "print(\"Value of x : \", x, \" and y : \", y)\n",
        " \n",
        "# Swap code\n",
        "x = x + y # x = 15.7, y = 10.3\n",
        "y = x - y # x = 15.7, y = 5.4\n",
        "x = x - y # x = 10.3, y = 5.4\n",
        " \n",
        "print (\"After swapping: \")\n",
        "print(\"Value of x : \", x, \" and y : \", y)"
      ],
      "metadata": {
        "colab": {
          "base_uri": "https://localhost:8080/"
        },
        "id": "qBj3uZCPbHaA",
        "outputId": "f4b06d20-4001-4020-9cf6-eeea47a1ccc4"
      },
      "execution_count": null,
      "outputs": [
        {
          "output_type": "stream",
          "name": "stdout",
          "text": [
            "Before swapping: \n",
            "Value of x :  -5.4  and y :  -10.3\n",
            "After swapping: \n",
            "Value of x :  -10.3  and y :  -5.4\n"
          ]
        }
      ]
    },
    {
      "cell_type": "code",
      "source": [
        "#17 Write a program in Python to check whether an integer is Armstrong number or not.\n",
        "num=int(input())\n",
        "b=len(str(num))\n",
        "rum=num\n",
        "sum=0\n",
        "while num!=0:\n",
        "  rem=num%10\n",
        "  sum=sum+(rem**b)\n",
        "  num=num//10\n",
        "print(sum)\n",
        "if sum==rum:\n",
        "  print('armstong')\n",
        "else:\n",
        "  print('no')  \n"
      ],
      "metadata": {
        "colab": {
          "base_uri": "https://localhost:8080/"
        },
        "id": "8jfN1R1TbdC7",
        "outputId": "e036105f-02a6-4359-d186-674015beb738"
      },
      "execution_count": null,
      "outputs": [
        {
          "output_type": "stream",
          "name": "stdout",
          "text": [
            "153\n",
            "153\n",
            "armstong\n"
          ]
        }
      ]
    },
    {
      "cell_type": "code",
      "source": [
        "#18 Write a Python program to find an integer exponent x such that a^x = n."
      ],
      "metadata": {
        "id": "Xklnk2dQfGng"
      },
      "execution_count": null,
      "outputs": []
    },
    {
      "cell_type": "code",
      "source": [
        "#19 Write a Python program to find the largest negative and smallest positive numbers (or 0 if none).\n",
        "def test(nums):\n",
        "    pos = [n for n in nums if n > 0]\n",
        "    neg = [n for n in nums if n < 0]\n",
        "    return [max(neg) if neg else 0, min(pos) if pos else 0]   \n",
        "nums=[-12, -6, 300, -40, 2, 2, 3, 57, -50, -22, 12, 40, 9, 11, 18]\n",
        "print(\"List of numbers:\",nums)\n",
        "print(\"Largest negative and smallest positive numbers (or 0 if none) of the said list:\")\n",
        "print(test(nums))"
      ],
      "metadata": {
        "colab": {
          "base_uri": "https://localhost:8080/"
        },
        "id": "ZCT4YjHAgEUy",
        "outputId": "c3500368-9ab0-483b-a05f-abff084c3692"
      },
      "execution_count": null,
      "outputs": [
        {
          "output_type": "stream",
          "name": "stdout",
          "text": [
            "List of numbers: [-12, -6, 300, -40, 2, 2, 3, 57, -50, -22, 12, 40, 9, 11, 18]\n",
            "Largest negative and smallest positive numbers (or 0 if none) of the said list:\n",
            "[-6, 2]\n"
          ]
        }
      ]
    },
    {
      "cell_type": "code",
      "source": [
        "#20 Write a Python program to find the biggest even number between two numbers inclusive.\n",
        "def test(m, n):\n",
        "  lst=[]\n",
        "  for num in range(m,n+1):\n",
        "     if num%2==0:    \n",
        "       lst.append(num)\n",
        "  #print(lst)\n",
        "  return(max(lst))        "
      ],
      "metadata": {
        "id": "insFbl0bhgC0"
      },
      "execution_count": null,
      "outputs": []
    },
    {
      "cell_type": "code",
      "source": [
        "test(25,29)"
      ],
      "metadata": {
        "colab": {
          "base_uri": "https://localhost:8080/"
        },
        "id": "1y_tfN3NkTaa",
        "outputId": "6d018b1f-09b5-475f-bfa1-4f4ceb4d8758"
      },
      "execution_count": null,
      "outputs": [
        {
          "output_type": "execute_result",
          "data": {
            "text/plain": [
              "28"
            ]
          },
          "metadata": {},
          "execution_count": 50
        }
      ]
    },
    {
      "cell_type": "code",
      "source": [
        "#21 Write a Python program to find the largest prime factor of a given number.\n"
      ],
      "metadata": {
        "id": "BplWrbRMmgi_"
      },
      "execution_count": null,
      "outputs": []
    },
    {
      "cell_type": "code",
      "source": [
        "#22 Write a Python program to add the digits of a positive integer repeatedly until the result has a single digit.\n",
        "def add_digits(num):\n",
        "        return (num - 1) % 9 + 1 if num > 0 else 0\n",
        "\n",
        "print(add_digits(48))\n",
        "print(add_digits(59))"
      ],
      "metadata": {
        "colab": {
          "base_uri": "https://localhost:8080/"
        },
        "id": "NGsollgqrHBa",
        "outputId": "2f6ab025-5e57-45f1-a642-13e8bfb71801"
      },
      "execution_count": null,
      "outputs": [
        {
          "output_type": "stream",
          "name": "stdout",
          "text": [
            "3\n",
            "5\n"
          ]
        }
      ]
    },
    {
      "cell_type": "code",
      "source": [
        "#22 Write a Python program to add the digits of a positive integer repeatedly until the result has a single digit.\n",
        "def add_digits(num):\n",
        "        return (num - 1) % 9 + 1 if num > 0 else 0\n",
        "\n",
        "print(add_digits(48))\n",
        "print(add_digits(59))\n"
      ],
      "metadata": {
        "id": "PbaB0Kmqrjhv",
        "outputId": "e5d62ec8-d12d-48d6-916a-fdf658168ec1",
        "colab": {
          "base_uri": "https://localhost:8080/"
        }
      },
      "execution_count": null,
      "outputs": [
        {
          "output_type": "stream",
          "name": "stdout",
          "text": [
            "3\n",
            "5\n"
          ]
        }
      ]
    },
    {
      "cell_type": "code",
      "source": [
        "nums=[]\n",
        "n=int(input('enter number of element: '))\n",
        "for i in range(0,n):\n",
        "  ele=int(input())\n",
        "  nums.append(ele)\n",
        "#nums = [1, 2, 3, 4, 5, 6, 7, 8, 9, 10]\n",
        "print(\"Original list of integers:\")\n",
        "print(nums)"
      ],
      "metadata": {
        "id": "oVC94fqrsUiy"
      },
      "execution_count": null,
      "outputs": []
    },
    {
      "cell_type": "code",
      "source": [
        "#23write a python program find a list of interger with exactly two occurance of nineteen and at least thee occuance of five(interview question)\n",
        "lst1=[]\n",
        "sum1=0\n",
        "sum2=0\n",
        "n=int(input('entet the number of element of list: '))\n",
        "for i in range(0,n):\n",
        "  ele=int(input())\n",
        "  lst1.append(ele)\n",
        "print(lst1)\n",
        "#'''rogram for checking 3 cons15 and 2 16 '''\n",
        "try:\n",
        "    for i in range(0,len(lst1)):\n",
        "      if lst1[i]==15:\n",
        "        sum1=sum1+1\n",
        "      elif lst1[i]==19:\n",
        "        sum2=sum2+1\n",
        "    if sum1==2 and sum2>=2:\n",
        "      print('true')\n",
        "    else:\n",
        "      print('false')      \n",
        "except:\n",
        "  print('wrong input')\n"
      ],
      "metadata": {
        "colab": {
          "base_uri": "https://localhost:8080/"
        },
        "id": "uLTMJ4-isWJ0",
        "outputId": "f693b7fb-a6b0-4f8e-c6da-059b699f82c8"
      },
      "execution_count": null,
      "outputs": [
        {
          "output_type": "stream",
          "name": "stdout",
          "text": [
            "entet the number of element of list: 5\n",
            "15\n",
            "15\n",
            "19\n",
            "19\n",
            "19\n",
            "[15, 15, 19, 19, 19]\n",
            "true\n"
          ]
        }
      ]
    },
    {
      "cell_type": "markdown",
      "source": [
        "Write a pattern program to print this pattern\n",
        "\n",
        "Pattern:\n",
        "\n",
        "1\n",
        "\n",
        "2 2\n",
        "\n",
        "3 3 3\n",
        "\n",
        "4 4 4 4\n",
        "\n",
        "5 5 5 5 5"
      ],
      "metadata": {
        "id": "RgFCly51xsOI"
      }
    },
    {
      "cell_type": "code",
      "source": [
        "#24th question\n",
        "n=int(input('numbe of row equired: '))\n",
        "x=0\n",
        "for i in range(0,n):\n",
        "  x=x+1\n",
        "  for j in range(0,i+1):\n",
        "    print(x,end=\"\")\n",
        "  print(\"\\r\")  "
      ],
      "metadata": {
        "colab": {
          "base_uri": "https://localhost:8080/"
        },
        "id": "67DrlcjVxwaV",
        "outputId": "1e2be1ab-2f6b-4b6b-c14b-4d22d19d9c93"
      },
      "execution_count": null,
      "outputs": [
        {
          "output_type": "stream",
          "name": "stdout",
          "text": [
            "numbe of row equired: 6\n",
            "1\n",
            "22\n",
            "333\n",
            "4444\n",
            "55555\n",
            "666666\n"
          ]
        }
      ]
    },
    {
      "cell_type": "code",
      "source": [
        "n=5\n",
        "def string_pattern1(n):\n",
        "  '''This function is to print left triangle with number'''\n",
        "  try:\n",
        "    for i in range(1,n+1):\n",
        "      print(str(i)*i)\n",
        "\n",
        "  except:\n",
        "    print(\"Wrong input\")"
      ],
      "metadata": {
        "id": "aGLVEc3J29wS"
      },
      "execution_count": null,
      "outputs": []
    },
    {
      "cell_type": "code",
      "source": [
        "#25\n",
        "def string_pattern(n):\n",
        "  '''This function is to print left triangle with number'''\n",
        "  try:\n",
        "    for i in range(1,n+1):\n",
        "      print(str(i)* (n+1-i))\n",
        "  except:\n",
        "    print(\"Wrong input\")\n",
        "string_pattern(5)    "
      ],
      "metadata": {
        "colab": {
          "base_uri": "https://localhost:8080/"
        },
        "id": "icGwrdsW2t5g",
        "outputId": "ecde16d9-43c5-4a0f-9b9b-f8ca674c2fc9"
      },
      "execution_count": null,
      "outputs": [
        {
          "output_type": "stream",
          "name": "stdout",
          "text": [
            "11111\n",
            "2222\n",
            "333\n",
            "44\n",
            "5\n"
          ]
        }
      ]
    },
    {
      "cell_type": "code",
      "source": [
        "n=int(input('number of line requie:' ))\n",
        "x=0\n",
        "for i in range(n,0,-1):\n",
        "  x=x+1\n",
        "  for j in range(0,i):\n",
        "    print(x,end=\"\")\n",
        "  print(\"\\r\")  "
      ],
      "metadata": {
        "colab": {
          "base_uri": "https://localhost:8080/"
        },
        "id": "Rnuv_EJ-3NOY",
        "outputId": "65b03a8a-b29f-4bbb-f6bd-75b5bb0131c3"
      },
      "execution_count": null,
      "outputs": [
        {
          "output_type": "stream",
          "name": "stdout",
          "text": [
            "number of line requie:5\n",
            "11111\n",
            "2222\n",
            "333\n",
            "44\n",
            "5\n"
          ]
        }
      ]
    },
    {
      "cell_type": "code",
      "source": [
        "#26 \n",
        "def palindrome(num):\n",
        "  '''This function is to check whether given number is palindrome or not'''\n",
        "  try:\n",
        "    rev=0\n",
        "    temp=num\n",
        "    while num!=0:\n",
        "      dig=num%10\n",
        "      rev=rev*10+dig\n",
        "      num=num//10\n",
        "    if temp==rev:\n",
        "      print('{} is a palindrome'.format(temp))\n",
        "    else:\n",
        "      print('{} is not a palindrome'.format(temp))\n",
        "  except:\n",
        "    print(\"Wrong input\")\n",
        "\n",
        "palindrome(15651) "
      ],
      "metadata": {
        "colab": {
          "base_uri": "https://localhost:8080/"
        },
        "id": "UOKYaQGF3WO1",
        "outputId": "09aa893f-e78b-490e-af36-e5db0e3a1652"
      },
      "execution_count": null,
      "outputs": [
        {
          "output_type": "stream",
          "name": "stdout",
          "text": [
            "15651 is a palindrome\n"
          ]
        }
      ]
    },
    {
      "cell_type": "code",
      "source": [
        "palindrome('a')"
      ],
      "metadata": {
        "colab": {
          "base_uri": "https://localhost:8080/"
        },
        "id": "CCdxp16h3i6R",
        "outputId": "474a1664-f706-46b2-a709-34791a90d523"
      },
      "execution_count": null,
      "outputs": [
        {
          "output_type": "stream",
          "name": "stdout",
          "text": [
            "Wrong input\n"
          ]
        }
      ]
    },
    {
      "cell_type": "code",
      "source": [
        "#27 python code to return list containing squares from 0 to 7\n",
        "def squares(n):\n",
        "  '''This function gives list of squares'''\n",
        "  try:\n",
        "    list=[]\n",
        "    for i in range(n+1):\n",
        "      list.append(i**2)\n",
        "    print(list)\n",
        "  except:\n",
        "    print('Wrong output')\n",
        "\n",
        "squares(7)"
      ],
      "metadata": {
        "colab": {
          "base_uri": "https://localhost:8080/"
        },
        "id": "qsEOW8693qan",
        "outputId": "e81b0f70-c254-48c8-d569-65f7aa36940e"
      },
      "execution_count": null,
      "outputs": [
        {
          "output_type": "stream",
          "name": "stdout",
          "text": [
            "[0, 1, 4, 9, 16, 25, 36, 49]\n"
          ]
        }
      ]
    },
    {
      "cell_type": "code",
      "source": [
        "start=0\n",
        "end=7\n",
        "lis=[]\n",
        "def squares():\n",
        " '''This function is to print  containing squares from 0 to 7'''\n",
        "try:\n",
        "    for i in range(start,end+1):\n",
        "      lis.append(i*i)\n",
        "    print(lis) \n",
        "except:\n",
        "     print(\"Wrong input\") \n",
        "squares()     "
      ],
      "metadata": {
        "colab": {
          "base_uri": "https://localhost:8080/"
        },
        "id": "AuMH03Na4A9X",
        "outputId": "24d94d13-2776-43a7-ace6-04dc96e1e6a6"
      },
      "execution_count": null,
      "outputs": [
        {
          "output_type": "stream",
          "name": "stdout",
          "text": [
            "[0, 1, 4, 9, 16, 25, 36, 49]\n"
          ]
        }
      ]
    },
    {
      "cell_type": "code",
      "source": [
        "#Write a Python program to find the string consisting of all the words whose lengths are prime numbers.\n",
        "def test(strs):\n",
        "    return \" \".join(strs for strs in strs.split() if is_prime(len(strs))) \n",
        "def is_prime(n):\n",
        "    return n > 1 and all(n % j for j in range(2, int(n ** 0.5) + 1))\n",
        "strs = \"The quick brown fox jumps over the lazy dog.\"\n",
        "\n",
        "\n",
        "print(\"Original list of numbers:\")\n",
        "print(strs)\n",
        "print('\\r')\n",
        "print(\"Words whose lengths are prime numbers in the said string:\")\n",
        "print(test(strs))\n",
        "strs = \"Omicron Effect: Foreign Flights Won't Resume On Dec 15, Decision Later.\"\n"
      ],
      "metadata": {
        "colab": {
          "base_uri": "https://localhost:8080/"
        },
        "id": "pU9Og0ip7MJI",
        "outputId": "a47ca8ce-745d-4c07-c364-ee8c09ff81a9"
      },
      "execution_count": null,
      "outputs": [
        {
          "output_type": "stream",
          "name": "stdout",
          "text": [
            "Original list of numbers:\n",
            "The quick brown fox jumps over the lazy dog.\n",
            "\r\n",
            "Words whose lengths are prime numbers in the said string:\n",
            "The quick brown fox jumps the\n"
          ]
        }
      ]
    },
    {
      "cell_type": "code",
      "source": [
        "#29 string to list conversion\n",
        "def convert(string):\n",
        "  li=list(string.split(\" \"))\n",
        "  return li\n",
        "str1=\"my name is rahul\"\n",
        "convert(str1)  \n"
      ],
      "metadata": {
        "colab": {
          "base_uri": "https://localhost:8080/"
        },
        "id": "ivQjDhK79vHo",
        "outputId": "8b96c321-b3e8-4a32-fea7-1284074b1e6e"
      },
      "execution_count": null,
      "outputs": [
        {
          "output_type": "execute_result",
          "data": {
            "text/plain": [
              "['my', 'name', 'is', 'rahul']"
            ]
          },
          "metadata": {},
          "execution_count": 41
        }
      ]
    },
    {
      "cell_type": "code",
      "source": [
        "str1=\"my name is rahul\"\n",
        "li=list(str1.split())\n",
        "li"
      ],
      "metadata": {
        "colab": {
          "base_uri": "https://localhost:8080/"
        },
        "id": "zA5JycbL-3LG",
        "outputId": "04ed4495-0e03-4891-8fb2-baae6aa57444"
      },
      "execution_count": null,
      "outputs": [
        {
          "output_type": "execute_result",
          "data": {
            "text/plain": [
              "['my', 'name', 'is', 'rahul']"
            ]
          },
          "metadata": {},
          "execution_count": 45
        }
      ]
    },
    {
      "cell_type": "code",
      "source": [
        "str1=\"my\"\n",
        "li=list(str1.split(\" \"))\n",
        "li"
      ],
      "metadata": {
        "colab": {
          "base_uri": "https://localhost:8080/"
        },
        "id": "T_eaVj6F_Ru_",
        "outputId": "8f327d94-936f-4410-ab9a-b26b6e9ca7c1"
      },
      "execution_count": null,
      "outputs": [
        {
          "output_type": "execute_result",
          "data": {
            "text/plain": [
              "['my']"
            ]
          },
          "metadata": {},
          "execution_count": 48
        }
      ]
    },
    {
      "cell_type": "code",
      "source": [
        "#how to print sting characte ???????? or use append method\n",
        "string=\"rahul kumsa\"\n",
        "print([*string])"
      ],
      "metadata": {
        "colab": {
          "base_uri": "https://localhost:8080/"
        },
        "id": "kIqfV5An_oBL",
        "outputId": "ce11c3b9-3bea-41e3-9762-2ff87d53eddd"
      },
      "execution_count": null,
      "outputs": [
        {
          "output_type": "stream",
          "name": "stdout",
          "text": [
            "['r', 'a', 'h', 'u', 'l', ' ', 'k', 'u', 'm', 's', 'a']\n"
          ]
        }
      ]
    },
    {
      "cell_type": "code",
      "source": [
        "#how to take sting input\n",
        "kk=input()\n",
        "kk.split(\" \")"
      ],
      "metadata": {
        "colab": {
          "base_uri": "https://localhost:8080/"
        },
        "id": "ug8yQyk1Al2G",
        "outputId": "daf0bfe0-91c8-437b-819a-c12648227e0f"
      },
      "execution_count": null,
      "outputs": [
        {
          "name": "stdout",
          "output_type": "stream",
          "text": [
            "my name is rahul\n"
          ]
        },
        {
          "output_type": "execute_result",
          "data": {
            "text/plain": [
              "['my', 'name', 'is', 'rahul']"
            ]
          },
          "metadata": {},
          "execution_count": 53
        }
      ]
    },
    {
      "cell_type": "code",
      "source": [
        "def pattern(n):\n",
        "     for i in range(1, n):\n",
        "         for j in range(1, i + 1):\n",
        "             print(j**2, end= \" \")\n",
        "         print(\"\\r\")\n",
        "pattern(5)"
      ],
      "metadata": {
        "colab": {
          "base_uri": "https://localhost:8080/"
        },
        "id": "7iHr4NhoD1b-",
        "outputId": "c6da65d7-2cbe-4c02-eecd-134b5328614a"
      },
      "execution_count": null,
      "outputs": [
        {
          "output_type": "stream",
          "name": "stdout",
          "text": [
            "1 \r\n",
            "1 4 \r\n",
            "1 4 9 \r\n",
            "1 4 9 16 \r\n"
          ]
        }
      ]
    },
    {
      "cell_type": "code",
      "source": [
        "n=int(input('numbe of row equired: '))\n",
        "x=0\n",
        "for i in range(1,n+1):\n",
        " #\n",
        "  for j in range(1,i+1):\n",
        "    print(i,end=\"\")\n",
        "  print(\"\\r\")  "
      ],
      "metadata": {
        "colab": {
          "base_uri": "https://localhost:8080/"
        },
        "id": "rgJMctZ4EJZ9",
        "outputId": "8b41d434-1baf-42cb-c561-34dcefb1f706"
      },
      "execution_count": null,
      "outputs": [
        {
          "output_type": "stream",
          "name": "stdout",
          "text": [
            "numbe of row equired: 5\n",
            "1\n",
            "22\n",
            "333\n",
            "4444\n",
            "55555\n"
          ]
        }
      ]
    },
    {
      "cell_type": "code",
      "source": [],
      "metadata": {
        "id": "9sRKZ_Wg_fzH"
      },
      "execution_count": null,
      "outputs": []
    },
    {
      "cell_type": "code",
      "source": [
        "Given a string, the task is to write a Python program to move all the numbers in it to its end. Input : test_str = 'geek2eeks4g1eek5sbest6forall9' Output : geekeeksgeeks"
      ],
      "metadata": {
        "id": "5btogAvy_k1X"
      },
      "execution_count": null,
      "outputs": []
    },
    {
      "cell_type": "code",
      "source": [
        "#Given a string, the task is to write a Python program to move all the numbers in it to its end. \n",
        "#Input : test_str = 'geek2eeks4g1eek5sbest6forall9' Output : geekeeksgeeksbestforall241569 Input : test_str = 'geekeeksg1eek5sbest6forall9' Output : geekeeksgeeksbestforall1569 \n",
        "\n",
        "test_str = 'geek2eeks4g1eek5sbest6forall9'\n",
        "tset_str1=\" \"\n",
        "test_str2=\" \"\n",
        "for i in range(0,len(test_str)):\n",
        "  if test_str[i]== (test_str[i]):\n",
        "    tset_str1.append(test_str[i])\n",
        "  else:\n",
        "    test_str2.append(test_str[i]) \n",
        "print('test_str2' + 'tset_str1')     \n",
        "    \n"
      ],
      "metadata": {
        "id": "5GnqRvTD_ybv"
      },
      "execution_count": null,
      "outputs": []
    },
    {
      "cell_type": "code",
      "source": [
        "#Given a string, the task is to write a Python program to move all the numbers in it to its end. \n",
        "#Input : test_str = 'geek2eeks4g1eek5sbest6forall9' Output : geekeeksgeeksbestforall241569\n",
        "def num_last(ip_str):\n",
        "   t_num = ''.join(i for i in ip_str if i.isnumeric())\n",
        "   t_str = ''.join(i for i in ip_str if not i.isnumeric()) \n",
        "   return t_str+t_num \n",
        "   test_str = 'geek2eeks4g1eek5sbest6forall9' \n",
        "   print(num_last(test_str))"
      ],
      "metadata": {
        "id": "AJYXg2fKExVu"
      },
      "execution_count": null,
      "outputs": []
    },
    {
      "cell_type": "code",
      "source": [
        "test_str = 'geek2eeks4g1eek5sbest6forall9' \n",
        "print(num_last(test_str))"
      ],
      "metadata": {
        "colab": {
          "base_uri": "https://localhost:8080/"
        },
        "id": "a4cWzNhRFO6e",
        "outputId": "62d7125c-3973-4330-d0fc-efbc7f5cb9e9"
      },
      "execution_count": null,
      "outputs": [
        {
          "output_type": "stream",
          "name": "stdout",
          "text": [
            "geekeeksgeeksbestforall241569\n"
          ]
        }
      ]
    },
    {
      "cell_type": "code",
      "source": [
        "col1=input(\"enter the element of list1: \").split()\n",
        "col1"
      ],
      "metadata": {
        "colab": {
          "base_uri": "https://localhost:8080/"
        },
        "id": "dx8-jkGo6ifU",
        "outputId": "24ba9086-6235-4023-f97d-fe180f332716"
      },
      "execution_count": null,
      "outputs": [
        {
          "name": "stdout",
          "output_type": "stream",
          "text": [
            "enter the element of list1: ahul  am eak book\n"
          ]
        },
        {
          "output_type": "execute_result",
          "data": {
            "text/plain": [
              "['ahul', 'am', 'eak', 'book']"
            ]
          },
          "metadata": {},
          "execution_count": 1
        }
      ]
    },
    {
      "cell_type": "code",
      "source": [
        "words=input(\"enter the element of list: \").split()\n",
        "print(words)\n",
        "def pal(words):\n",
        "  result=list(filter(lambda X:X==\"\".join(reversed(x)),words))\n",
        "  print(result)  \n"
      ],
      "metadata": {
        "id": "-ZTJ_Jg6IZWy"
      },
      "execution_count": null,
      "outputs": []
    },
    {
      "cell_type": "code",
      "source": [
        "#words=input(\"enter the element of list: \").split()\n",
        "words=['nitin','rahul','madam','abba']\n",
        "print(words)\n",
        "output=[]\n",
        "def pal(words):\n",
        "  for x in words:\n",
        "    if x.upper()==x[::-1].upper():\n",
        "      return True\n",
        "    else:\n",
        "      return False \n",
        "#list(map(pal,words))       "
      ],
      "metadata": {
        "colab": {
          "base_uri": "https://localhost:8080/"
        },
        "id": "zPQftZgKK9fh",
        "outputId": "17bb314f-6261-4ff6-ffbc-0e8399711b8f"
      },
      "execution_count": null,
      "outputs": [
        {
          "output_type": "stream",
          "name": "stdout",
          "text": [
            "['nitin', 'rahul', 'madam', 'abba']\n"
          ]
        }
      ]
    },
    {
      "cell_type": "code",
      "source": [
        "print(list(map(pal,words)))"
      ],
      "metadata": {
        "colab": {
          "base_uri": "https://localhost:8080/"
        },
        "id": "WWUNPI4xR94B",
        "outputId": "83e0b037-a8a4-44bf-89cc-c7eada03aa26"
      },
      "execution_count": null,
      "outputs": [
        {
          "output_type": "stream",
          "name": "stdout",
          "text": [
            "[True, True, True, True]\n"
          ]
        }
      ]
    },
    {
      "cell_type": "code",
      "source": [
        "#words=input(\"enter the element of list: \").split()\n",
        "words=['nitin','rahul','madam','abba']\n",
        "print(words)\n",
        "def pal(x):\n",
        "  for x in words:\n",
        "    if x==x[::-1]:\n",
        "      return True \n",
        "    else:\n",
        "      return False \n",
        "list(map(pal,words))  "
      ],
      "metadata": {
        "colab": {
          "base_uri": "https://localhost:8080/"
        },
        "id": "10mlOO1NMgAU",
        "outputId": "9772a48b-5376-41cf-da07-e45ef11990a8"
      },
      "execution_count": null,
      "outputs": [
        {
          "output_type": "stream",
          "name": "stdout",
          "text": [
            "['nitin', 'rahul', 'madam', 'abba']\n"
          ]
        },
        {
          "output_type": "execute_result",
          "data": {
            "text/plain": [
              "[True, True, True, True]"
            ]
          },
          "metadata": {},
          "execution_count": 38
        }
      ]
    },
    {
      "cell_type": "code",
      "source": [
        "list(map(pal,words))"
      ],
      "metadata": {
        "colab": {
          "base_uri": "https://localhost:8080/"
        },
        "id": "AQe_O694WQ-b",
        "outputId": "8af6b7e2-3c44-4276-a178-b2b1b64ed022"
      },
      "execution_count": null,
      "outputs": [
        {
          "output_type": "execute_result",
          "data": {
            "text/plain": [
              "[True, True, True, True]"
            ]
          },
          "metadata": {},
          "execution_count": 34
        }
      ]
    },
    {
      "cell_type": "code",
      "source": [
        "words=['nitin','rahul','madam','abba']\n",
        "print(words)\n",
        "output=[]\n",
        "for x in words:\n",
        "  if x.upper()==x[::-1].upper():\n",
        "    output.append(True)\n",
        "  else:\n",
        "    output.append(False) \n",
        "\n",
        "print(output)    "
      ],
      "metadata": {
        "colab": {
          "base_uri": "https://localhost:8080/"
        },
        "id": "rMxwU1QkSl3d",
        "outputId": "e38bd22b-fbf0-48e6-9d32-7ddecceb324c"
      },
      "execution_count": null,
      "outputs": [
        {
          "output_type": "stream",
          "name": "stdout",
          "text": [
            "['nitin', 'rahul', 'madam', 'abba']\n",
            "[True, False, True, True]\n"
          ]
        }
      ]
    },
    {
      "cell_type": "code",
      "source": [
        "numbe=[2,3,4,5,6]\n",
        "def square(x):\n",
        "  return x*x\n",
        "list(map(square,numbe))  \n"
      ],
      "metadata": {
        "colab": {
          "base_uri": "https://localhost:8080/"
        },
        "id": "5M8SzZtPWdVZ",
        "outputId": "68e95501-6976-44a3-b1d9-7e8c041b2b2b"
      },
      "execution_count": null,
      "outputs": [
        {
          "output_type": "execute_result",
          "data": {
            "text/plain": [
              "[4, 9, 16, 25, 36]"
            ]
          },
          "metadata": {},
          "execution_count": 32
        }
      ]
    }
  ]
}