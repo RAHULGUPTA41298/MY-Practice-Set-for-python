{
  "nbformat": 4,
  "nbformat_minor": 0,
  "metadata": {
    "kernelspec": {
      "display_name": "Python 3",
      "language": "python",
      "name": "python3"
    },
    "language_info": {
      "codemirror_mode": {
        "name": "ipython",
        "version": 3
      },
      "file_extension": ".py",
      "mimetype": "text/x-python",
      "name": "python",
      "nbconvert_exporter": "python",
      "pygments_lexer": "ipython3",
      "version": "3.7.4"
    },
    "colab": {
      "provenance": [],
      "collapsed_sections": [],
      "include_colab_link": true
    }
  },
  "cells": [
    {
      "cell_type": "markdown",
      "metadata": {
        "id": "view-in-github",
        "colab_type": "text"
      },
      "source": [
        "<a href=\"https://colab.research.google.com/github/rkgupta1/MY-Practice-Set-for-python/blob/main/Copy_of_Integers%2C_Floats_%26_Booleans.ipynb\" target=\"_parent\"><img src=\"https://colab.research.google.com/assets/colab-badge.svg\" alt=\"Open In Colab\"/></a>"
      ]
    },
    {
      "cell_type": "code",
      "metadata": {
        "id": "etEpKlXqJbO2",
        "colab": {
          "base_uri": "https://localhost:8080/",
          "height": 34
        },
        "outputId": "5a4e32fd-cfed-46a5-f893-36fd459578da"
      },
      "source": [
        "# Division\n",
        "3/2"
      ],
      "execution_count": null,
      "outputs": [
        {
          "output_type": "execute_result",
          "data": {
            "text/plain": [
              "1.5"
            ]
          },
          "metadata": {
            "tags": []
          },
          "execution_count": 6
        }
      ]
    },
    {
      "cell_type": "code",
      "metadata": {
        "id": "_6rPJxI6JbO5",
        "colab": {
          "base_uri": "https://localhost:8080/",
          "height": 34
        },
        "outputId": "e146051d-58d1-40be-cde5-eae19cf9ebba"
      },
      "source": [
        "# Floor Division\n",
        "7//2"
      ],
      "execution_count": null,
      "outputs": [
        {
          "output_type": "execute_result",
          "data": {
            "text/plain": [
              "3"
            ]
          },
          "metadata": {
            "tags": []
          },
          "execution_count": 9
        }
      ]
    },
    {
      "cell_type": "code",
      "metadata": {
        "id": "-nwZ9QhfJbO8",
        "colab": {
          "base_uri": "https://localhost:8080/",
          "height": 34
        },
        "outputId": "d5333f83-f108-4845-ba40-50bfe06747f1"
      },
      "source": [
        "# Exponentiation\n",
        "2**5"
      ],
      "execution_count": null,
      "outputs": [
        {
          "output_type": "execute_result",
          "data": {
            "text/plain": [
              "32"
            ]
          },
          "metadata": {
            "tags": []
          },
          "execution_count": 11
        }
      ]
    },
    {
      "cell_type": "code",
      "metadata": {
        "id": "JuBKbD6rJbO-",
        "colab": {
          "base_uri": "https://localhost:8080/",
          "height": 34
        },
        "outputId": "3012d49a-ae22-4f65-b85f-9cd1fa7f6c84"
      },
      "source": [
        "# Modulus= remainder\n",
        "5%6"
      ],
      "execution_count": null,
      "outputs": [
        {
          "output_type": "execute_result",
          "data": {
            "text/plain": [
              "5"
            ]
          },
          "metadata": {
            "tags": []
          },
          "execution_count": 14
        }
      ]
    },
    {
      "cell_type": "code",
      "source": [
        "#1 Write a python program to check a given number is perfect or not.\n",
        "\n",
        "num= int(input())\n",
        "sum=0\n",
        "for i in range(1,num):\n",
        "    if num%i==0:\n",
        "\n",
        "      sum=sum+i\n",
        "if(sum==num):\n",
        "     print('the number is a perfect number')\n",
        "else:\n",
        "     print('the number is not a pefect number')\n",
        "       \n",
        "        "
      ],
      "metadata": {
        "id": "DtNoBBqe5Dm9",
        "colab": {
          "base_uri": "https://localhost:8080/"
        },
        "outputId": "490419c9-5e17-48c9-b511-9aee770e55b2"
      },
      "execution_count": 33,
      "outputs": [
        {
          "output_type": "stream",
          "name": "stdout",
          "text": [
            "6\n",
            "the number is a perfect number\n"
          ]
        }
      ]
    },
    {
      "cell_type": "code",
      "source": [
        "#2 Write a Python program to check whether a String is Palindrome or not?\n",
        "def Palindrome(s):\n",
        "  return s==s[::-1]\n",
        "  "
      ],
      "metadata": {
        "id": "5zEg6QbRqiBh"
      },
      "execution_count": 40,
      "outputs": []
    },
    {
      "cell_type": "code",
      "source": [
        "s=\"malayalam\"\n",
        "ans= Palindrome(s)\n",
        "if ans:\n",
        "  print('yes')\n",
        "else:\n",
        "  print('no')  "
      ],
      "metadata": {
        "colab": {
          "base_uri": "https://localhost:8080/"
        },
        "id": "LkU8ytfasB6J",
        "outputId": "0dc4868a-e286-470b-98a4-e603597db1f5"
      },
      "execution_count": 43,
      "outputs": [
        {
          "output_type": "stream",
          "name": "stdout",
          "text": [
            "yes\n"
          ]
        }
      ]
    },
    {
      "cell_type": "code",
      "source": [
        "#3 Write a python program to remove a given character from string.\n",
        "str = input()\n",
        "ch = input()\n",
        "print(str.replace(ch,\" \")) "
      ],
      "metadata": {
        "colab": {
          "base_uri": "https://localhost:8080/"
        },
        "id": "RJeg0EicyiJ_",
        "outputId": "4f783a3e-4113-4028-d7c4-9d46261f2130"
      },
      "execution_count": 53,
      "outputs": [
        {
          "output_type": "stream",
          "name": "stdout",
          "text": [
            "abcde\n",
            "e\n",
            "abcd \n"
          ]
        }
      ]
    },
    {
      "cell_type": "code",
      "source": [
        "#4 code for factorial of number \n",
        "def factorial(num):\n",
        "  if num<0:\n",
        "    print(\"actorial is not defned\")\n",
        "  elif num>0:\n",
        "    result=1\n",
        "    for i in range(1, num+1):\n",
        "      result=result*i\n",
        "    print(result)\n",
        "  else:\n",
        "     print(\"factorial of 0 is 1\")     \n",
        "  return   "
      ],
      "metadata": {
        "id": "X3_8h-6l3PoS"
      },
      "execution_count": 83,
      "outputs": []
    },
    {
      "cell_type": "code",
      "source": [
        "factorial(-5)"
      ],
      "metadata": {
        "colab": {
          "base_uri": "https://localhost:8080/"
        },
        "id": "6qzkM1A1uj-O",
        "outputId": "278d1f5a-d820-47d2-c46d-bebf54a39e4e"
      },
      "execution_count": 85,
      "outputs": [
        {
          "output_type": "stream",
          "name": "stdout",
          "text": [
            "actorial is not defned\n"
          ]
        }
      ]
    },
    {
      "cell_type": "code",
      "source": [
        "#5 Write a Python program to check whether a number is Palindrome or not?\n",
        "number=int(input())\n",
        "temp=number\n",
        "rev=0\n",
        "while(number>0):\n",
        "  dig=number%10\n",
        "  rev= rev*10 + dig\n",
        "  number=number//10\n",
        "if (temp==rev):\n",
        "  print('pal') \n",
        "else:\n",
        "  print('not')   "
      ],
      "metadata": {
        "colab": {
          "base_uri": "https://localhost:8080/"
        },
        "id": "zG54yXOP0uZM",
        "outputId": "462675b2-9823-4af0-9718-6d08c82e92a5"
      },
      "execution_count": 55,
      "outputs": [
        {
          "output_type": "stream",
          "name": "stdout",
          "text": [
            "555\n",
            "pal\n"
          ]
        }
      ]
    },
    {
      "cell_type": "code",
      "source": [
        "#6 function Create and call....\n",
        "def palin(number):\n",
        "  temp=number\n",
        "  rev=0\n",
        "  while(number>0):\n",
        "   dig=number%10\n",
        "   rev= rev*10 + dig\n",
        "   number=number//10\n",
        "  if (temp==rev):\n",
        "    print('pal') \n",
        "  else:\n",
        "    print('not') \n",
        "  return"
      ],
      "metadata": {
        "id": "aPGX0jgw2zfD"
      },
      "execution_count": 68,
      "outputs": []
    },
    {
      "cell_type": "code",
      "source": [
        "palin(int(input()))"
      ],
      "metadata": {
        "colab": {
          "base_uri": "https://localhost:8080/"
        },
        "id": "H7tAeMkO5Odk",
        "outputId": "d2768108-676e-4899-e2fe-2d6ed39cf476"
      },
      "execution_count": 71,
      "outputs": [
        {
          "output_type": "stream",
          "name": "stdout",
          "text": [
            "121\n",
            "pal\n"
          ]
        }
      ]
    },
    {
      "cell_type": "code",
      "source": [],
      "metadata": {
        "id": "P2D-sXvH7cw7"
      },
      "execution_count": null,
      "outputs": []
    }
  ]
}